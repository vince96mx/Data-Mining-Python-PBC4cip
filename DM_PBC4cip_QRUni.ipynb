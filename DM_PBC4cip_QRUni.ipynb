{
 "cells": [
  {
   "cell_type": "markdown",
   "metadata": {
    "id": "u71JrUt9HXow"
   },
   "source": [
    "# Assignment 3 Pattern miner\n",
    "\n",
    "Vicente Alejandro Lomellín Ibarra A01175933\n",
    "\n",
    "Luis Martín Fregoso Aparicio A01339273 \n",
    "\n",
    "Robertha Isabela Rosas Leal A01196424"
   ]
  },
  {
   "cell_type": "code",
   "execution_count": 1,
   "metadata": {
    "colab": {
     "base_uri": "https://localhost:8080/"
    },
    "id": "toVNuzaSljW8",
    "outputId": "6c446a69-13fb-4253-d9d5-a959659bee08"
   },
   "outputs": [
    {
     "name": "stdout",
     "output_type": "stream",
     "text": [
      "Collecting PBC4cip\n",
      "  Downloading PBC4cip-0.0.0.8-py3-none-any.whl (57 kB)\n",
      "Requirement already satisfied: numpy in c:\\users\\vicente\\anaconda3\\lib\\site-packages (from PBC4cip) (1.20.1)\n",
      "Requirement already satisfied: tqdm in c:\\users\\vicente\\anaconda3\\lib\\site-packages (from PBC4cip) (4.59.0)\n",
      "Requirement already satisfied: scikit-learn in c:\\users\\vicente\\anaconda3\\lib\\site-packages (from PBC4cip) (0.24.1)\n",
      "Requirement already satisfied: pandas in c:\\users\\vicente\\anaconda3\\lib\\site-packages (from PBC4cip) (1.2.4)\n",
      "Requirement already satisfied: pytz>=2017.3 in c:\\users\\vicente\\anaconda3\\lib\\site-packages (from pandas->PBC4cip) (2021.1)\n",
      "Requirement already satisfied: python-dateutil>=2.7.3 in c:\\users\\vicente\\anaconda3\\lib\\site-packages (from pandas->PBC4cip) (2.8.1)\n",
      "Requirement already satisfied: six>=1.5 in c:\\users\\vicente\\anaconda3\\lib\\site-packages (from python-dateutil>=2.7.3->pandas->PBC4cip) (1.15.0)\n",
      "Requirement already satisfied: scipy>=0.19.1 in c:\\users\\vicente\\anaconda3\\lib\\site-packages (from scikit-learn->PBC4cip) (1.6.2)\n",
      "Requirement already satisfied: threadpoolctl>=2.0.0 in c:\\users\\vicente\\anaconda3\\lib\\site-packages (from scikit-learn->PBC4cip) (2.1.0)\n",
      "Requirement already satisfied: joblib>=0.11 in c:\\users\\vicente\\anaconda3\\lib\\site-packages (from scikit-learn->PBC4cip) (1.0.1)\n",
      "Installing collected packages: PBC4cip\n",
      "Successfully installed PBC4cip-0.0.0.8\n"
     ]
    }
   ],
   "source": [
    "!pip install PBC4cip"
   ]
  },
  {
   "cell_type": "code",
   "execution_count": 2,
   "metadata": {
    "id": "hS_dUm09lkhp"
   },
   "outputs": [],
   "source": [
    "import os\n",
    "import argparse\n",
    "import numpy as np\n",
    "import pandas as pd\n",
    "import random\n",
    "\n",
    "from tqdm import tqdm, trange\n",
    "from PBC4cip import *\n",
    "# from PBC4cip import MaximalPatternsGlobalFilter\n",
    "import random\n",
    "\n",
    "from sklearn.feature_selection import SelectKBest\n",
    "from sklearn.feature_selection import f_classif\n",
    "from sklearn.feature_selection import RFE\n",
    "from sklearn.linear_model import LogisticRegression\n",
    "from sklearn.feature_selection import SelectFromModel\n",
    "from sklearn.ensemble import ExtraTreesClassifier\n",
    "# from PBC4cip_master.PBC4cip1.core import *\n",
    "\n",
    "\n",
    "import matplotlib.pyplot as plt"
   ]
  },
  {
   "cell_type": "markdown",
   "metadata": {
    "id": "YMn17DnpNhG3"
   },
   "source": [
    "## Initialize data\n",
    "\n",
    "** universities.csv file is required for the test functions"
   ]
  },
  {
   "cell_type": "code",
   "execution_count": 3,
   "metadata": {
    "id": "IQ7oojXcsygx"
   },
   "outputs": [],
   "source": [
    "def import_data(csv_data):\n",
    "  if isinstance(csv_data,str):\n",
    "    data = pd.read_csv(csv_data, encoding= 'latin-1', index_col= 'University')\n",
    "  else:\n",
    "    data = csv_data # If the given data is a pandas DataFrame, pass directly\n",
    "  predictors = data.iloc[0:data.shape[0],:-1].values\n",
    "  targets = data.iloc[0:data.shape[0],-1].values\n",
    "  return predictors, targets, data"
   ]
  },
  {
   "cell_type": "code",
   "execution_count": 4,
   "metadata": {
    "id": "Ns9i90aQs1Wi"
   },
   "outputs": [],
   "source": [
    "def test_import_data():\n",
    "  df = pd.DataFrame({'Dummy1': list(range(0,10)), 'Dummy2': list(range(10,20)),'class': [0,1,1,0,1,0,1,0,1,0]}, index = list(range(10)))\n",
    "  X, y = import_data(df)\n",
    "  assert y.shape == (10,)\n",
    "  assert X.shape == (10,2)\n",
    "  assert isinstance(X,np.ndarray)\n",
    "  assert all(X[0]) == all([0,10]) \n",
    "  assert y[0] == 0"
   ]
  },
  {
   "cell_type": "code",
   "execution_count": 5,
   "metadata": {
    "id": "TsGsji5oyDYY"
   },
   "outputs": [],
   "source": [
    "def split_data(predictors, target):\n",
    "  indices = list(range(len(predictors)))\n",
    "  split = int(np.floor(0.3 * len(predictors)))\n",
    "  np.random.seed(0)\n",
    "  np.random.shuffle(indices)\n",
    "\n",
    "  train_idx, test_idx = indices[split:], indices[:split]\n",
    "  train_predictors = []\n",
    "  train_targets = []\n",
    "\n",
    "  X_train, y_train = get_train_data(train_idx,predictors,target)\n",
    "  X_test, y_test = get_test_data(test_idx,predictors,target)\n",
    "  \n",
    "  return X_train, y_train, X_test, y_test\n",
    "\n",
    "def get_train_data(train_idx,predictors,target):\n",
    "  X_train = []\n",
    "  y_train = []\n",
    "\n",
    "  for i in train_idx:\n",
    "    X_train.append(predictors[i])\n",
    "    y_train.append(target[i])\n",
    "  return X_train, y_train\n",
    "\n",
    "def get_test_data(test_idx,predictors,target):\n",
    "  X_test = []\n",
    "  y_test = []\n",
    "  for i in test_idx:\n",
    "    X_test.append(predictors[i])\n",
    "    y_test.append(target[i])\n",
    "  return X_test, y_test\n",
    "  "
   ]
  },
  {
   "cell_type": "code",
   "execution_count": 6,
   "metadata": {
    "id": "dJ47bWMr5-z1"
   },
   "outputs": [],
   "source": [
    "def test_split_data():\n",
    "  df = pd.DataFrame({'Dummy1': list(range(0,10)), 'Dummy2': list(range(10,20)),'class': [0,1,1,0,1,0,1,0,1,0]}, index = list(range(10)))\n",
    "  X, y = import_data(df)\n",
    "  X_train, y_train, X_test, y_test = split_data(X, y)\n",
    "  assert len(X_train) == 7 and len(y_train) == 7\n",
    "  assert len(X_test) == 3 and len(y_test) == 3\n",
    "  assert all(X_train[0]) == all([ 9, 19]) and all(X_test[0]) == all([ 2, 12])\n",
    "  assert all(y_train) == all([0, 1, 1, 0, 0, 0, 0]) and all(y_test) == all([1, 1, 1])\n",
    "  assert isinstance(X_train,list) and isinstance(y_train,list) and isinstance(X_test,list) and isinstance(y_test,list)\n",
    "\n",
    "\n",
    "def test_get_test_data():\n",
    "  df = pd.DataFrame({'Dummy1': list(range(0,10)), 'Dummy2': list(range(10,20)),'class': [0,1,1,0,1,0,1,0,1,0]}, index = list(range(10)))\n",
    "  X, y = import_data(df)\n",
    "  test_idx = [0,6,8,3]\n",
    "  X_test, y_test = get_test_data(test_idx,X,y)\n",
    "  assert len(X_test) == 4 and len(y_test) == 4\n",
    "  assert isinstance(X_test,list)\n",
    "  assert isinstance(X_test[0],np.ndarray)\n",
    "  assert isinstance(y_test[0],np.int64)\n",
    "  assert all(y_test) == all([0,1,1,0])\n",
    "  assert all(X_test[0]) == all([0,10])\n",
    "\n",
    "def test_get_train_data():\n",
    "  df = pd.DataFrame({'Dummy1': list(range(0,10)), 'Dummy2': list(range(10,20)),'class': [0,1,1,0,1,0,1,0,1,0]}, index = list(range(10)))\n",
    "  X, y = import_data(df)\n",
    "  train_idx = [1,2,4,5,7,9]\n",
    "  X_train, y_train = get_train_data(train_idx,X,y)\n",
    "  assert len(X_train) == 6 and len(y_train) == 6\n",
    "  assert isinstance(X_train,list)\n",
    "  assert isinstance(X_train[0],np.ndarray)\n",
    "  assert isinstance(y_train[0],np.int64)\n",
    "  assert all(y_train) == all([1,1,1,0,0,0])\n",
    "  assert all(X_train[0]) == all([1,11])\n"
   ]
  },
  {
   "cell_type": "code",
   "execution_count": 7,
   "metadata": {
    "id": "MJMeEfHVImo2"
   },
   "outputs": [],
   "source": [
    "def transform_to_DF(train,test,columns):\n",
    "  train_to_df = pd.DataFrame(train, columns = columns)\n",
    "  test_to_df = pd.DataFrame(test, columns = columns)\n",
    "  return train_to_df, test_to_df"
   ]
  },
  {
   "cell_type": "code",
   "execution_count": 8,
   "metadata": {
    "id": "1bgMOELvYN51"
   },
   "outputs": [],
   "source": [
    "def test_transform_to_DF():\n",
    "  df = pd.DataFrame({'Dummy1': list(range(0,10)), 'Dummy2': list(range(10,20)),'class': [0,1,1,0,1,0,1,0,1,0]}, index = list(range(10)))\n",
    "  X, y, data = import_data(df)\n",
    "  test_idx = [1,2,4,5,7,9]\n",
    "  train_idx = [0,6,8,3]\n",
    "  X_train, y_train = get_train_data(train_idx,X,y)\n",
    "  X_test, y_test = get_test_data(test_idx,X,y)\n",
    "  X_train, X_test = transform_to_DF(X_train,X_test,data.columns[:-1])\n",
    "  y_train, y_test = transform_to_DF(y_train,y_test,[data.columns[-1]])\n",
    "  assert X_train.shape == (4,2) and X_test.shape == (6,2)\n",
    "  assert isinstance(X_train, pd.core.frame.DataFrame) and isinstance(X_test, pd.core.frame.DataFrame)\n",
    "  assert y_train.shape == (4,1) and y_test.shape == (6,1)\n",
    "  assert isinstance(y_train, pd.core.frame.DataFrame) and isinstance(y_test, pd.core.frame.DataFrame)\n",
    "  assert y_train.columns == 'class' and y_test.columns == 'class'\n",
    "  assert all(X_train.columns) == all(['Dummy1', 'Dummy2']) and all(X_test.columns) == all(['Dummy1', 'Dummy2'])"
   ]
  },
  {
   "cell_type": "code",
   "execution_count": 9,
   "metadata": {
    "id": "BkVPsoQ35SgH"
   },
   "outputs": [],
   "source": [
    "def load_train_test_data(csv_file):\n",
    "  predictors, targets, data = import_data(csv_file)\n",
    "  X_train, y_train, X_test, y_test = split_data(predictors, targets)\n",
    "  X_train, X_test = transform_to_DF(X_train,X_test,data.columns[:-1])\n",
    "  y_train, y_test = transform_to_DF(list(np.where(np.asarray(y_train) == 1, 's1_r','s2_r')),list(np.where(np.asarray(y_test)== 1, 's1_r','s2_r')),[data.columns[-1]])\n",
    "\n",
    "  return X_train, y_train, X_test, y_test"
   ]
  },
  {
   "cell_type": "code",
   "execution_count": 10,
   "metadata": {
    "id": "XqeUOkMwZttr"
   },
   "outputs": [],
   "source": [
    "def test_load_train_test_data():\n",
    "  df = pd.DataFrame({'Dummy1': list(range(0,10)), 'Dummy2': list(range(10,20)),'class': [0,1,1,0,1,0,1,0,1,0]}, index = list(range(10)))\n",
    "  X_train, y_train, X_test, y_test = load_train_test_data(df)\n",
    "  \n",
    "  assert X_train.shape == (7,2) and X_test.shape == (3,2)\n",
    "  assert y_train.shape == (7,1) and y_test.shape == (3,1)\n",
    "  assert X_train.values.all() == (np.asarray([[9,19],[1,11],[6,16],[7,17],[3,13],[0,10],[5,15]])).all() and X_test.values.all() == (np.asarray([[2,12],[8,18], [4,14]])).all()\n",
    "  assert all(y_train) == all(['s2_r', 's1_r', 's1_r', 's2_r', 's2_r', 's2_r', 's2_r']) and all(y_test) == all(['s1_r','s1_r','s1_r'])\n",
    "  assert all(X_train.columns) == all(['Dummy1', 'Dummy2']) and all(X_test.columns) == all(['Dummy1', 'Dummy2']) and y_train.columns == ['class'] and y_test.columns == ['class']\n",
    "  \n",
    "test_load_train_test_data()"
   ]
  },
  {
   "cell_type": "markdown",
   "metadata": {
    "id": "pcOcYGuYrUfs"
   },
   "source": [
    "## PBC4cip"
   ]
  },
  {
   "cell_type": "code",
   "execution_count": 11,
   "metadata": {
    "id": "zcG0Px-EZFb0"
   },
   "outputs": [],
   "source": [
    "def PBC4cip_classifier(csv_file, t_count = 1000):\n",
    "  \"\"\" \n",
    "  This function extracts the complete patterns from PBC4cip miner. No modifications were done to the source code, since the\n",
    "  output of the classifier are the Emerging Patterns that were mined. The function is later used to mine the patterns by using the\n",
    "  internal pattern miner.\n",
    "  Input: csv file containing the data to be used, and tree count to be used for the Decision tree construction and pattern mining.\n",
    "  Output: List containing the found emerging patterns from the data. The output contains to sets of information per mined pattern:\n",
    "  The found univariate pattern and the support for each class s1_r and s2_r\n",
    "  \"\"\"\n",
    "  X_train, y_train, X_test, y_test = load_train_test_data(csv_file)\n",
    "  classifier = PBC4cip(filtering=True, tree_count = t_count)\n",
    "  patterns = classifier.fit(X_train, y_train)\n",
    "  return patterns\n"
   ]
  },
  {
   "cell_type": "code",
   "execution_count": 12,
   "metadata": {
    "id": "DLpZdrT3803I"
   },
   "outputs": [],
   "source": [
    "def test_PBC4cip_classifier():\n",
    "  patterns = PBC4cip_classifier('universities.csv', t_count = 10)\n",
    "  assert len(patterns) < 300\n",
    "  assert isinstance(patterns[0].Items,list)\n",
    "  assert isinstance(patterns[0].Supports,list)\n",
    "  assert isinstance(p[0].Supports[0],float)\n",
    "  assert len(patterns[0].Items) >= 1 and len(patterns[0].Supports) == 2"
   ]
  },
  {
   "cell_type": "code",
   "execution_count": 13,
   "metadata": {
    "id": "T9eGL-nuBr77"
   },
   "outputs": [],
   "source": [
    "def get_best_patterns(pattern, diff):\n",
    "  \"\"\"\n",
    "  Evaluates the pattern for it to comply with the support difference restrictrion\n",
    "  Input: Pattern to be evaluated and difference between patterns\n",
    "  Output: Pattern that complies with restriction or None, to be later removed from list\n",
    "  \"\"\"\n",
    "  if (pattern.Supports[0] - pattern.Supports[1]) >= diff:\n",
    "    return pattern\n",
    "  else:\n",
    "    return None"
   ]
  },
  {
   "cell_type": "code",
   "execution_count": 14,
   "metadata": {
    "id": "yt6koIGCEneJ"
   },
   "outputs": [],
   "source": [
    "def test_get_best_patterns():\n",
    "  all_p = PBC4cip_classifier_RandFeat('universities.csv', t_count= 10)\n",
    "  best_patterns_first = []\n",
    "  best_patterns_second = []\n",
    "  for pattern in all_p:\n",
    "    best_patterns_first.append(get_best_patterns(pattern[0], diff = 0.01))\n",
    "    best_patterns_second.append(get_best_patterns(pattern[1], diff = 0.01))\n",
    "  assert isinstance(best_patterns_first,list)\n",
    "  assert len(best_patterns_first) == 4 and len(best_patterns_second) == 4 \n",
    "  assert len(best_patterns_first) - best_patterns_first.count(None) >= 1 and len(best_patterns_second) - best_patterns_second.count(None) >= 1\n",
    "  best_patterns_first = list(filter(None, best_patterns_first))\n",
    "  best_patterns_second = list(filter(None, best_patterns_second))\n",
    "  assert best_patterns_first[0].Supports[0] - best_patterns_first[0].Supports[1] >= 0.01\n",
    "  assert best_patterns_second[0].Supports[0] - best_patterns_second[0].Supports[1] >= 0.01"
   ]
  },
  {
   "cell_type": "code",
   "execution_count": 15,
   "metadata": {
    "id": "nYR3XICHB1WO"
   },
   "outputs": [],
   "source": [
    "def test_evaluate_patterns():\n",
    "  all_p = PBC4cip_classifier_RandFeat('universities.csv', t_count= 10)\n",
    "  best_patterns = evaluate_patterns(all_p[0])\n",
    "  assert isinstance(best_patterns,list)\n",
    "  assert len(best_patterns) == 2\n",
    "  assert isinstance(best_patterns[0].Items,list) and isinstance(best_patterns[1].Items,list)\n",
    "  assert str(bp[0].Items[0]) == 'cit2017 > 90284.000' or str(bp[1].Items[0]) == 'cit2017 > 90284.000'\n",
    "  assert bp[0].Supports[0] + bp[0].Supports[1] >= 0.3"
   ]
  },
  {
   "cell_type": "code",
   "execution_count": 16,
   "metadata": {
    "id": "cniBoPziCK9q"
   },
   "outputs": [],
   "source": [
    "def get_patterns_PBC4cip_classifier(csv_file, t_count, diff = 0.3):\n",
    "  all_patterns = PBC4cip_classifier(csv_file, t_count)\n",
    "  best_patterns = []\n",
    "  for pattern in all_patterns:\n",
    "    best_patterns.append(get_best_patterns(pattern, diff))\n",
    "  best_patterns = list(filter(None, best_patterns))\n",
    "  return best_patterns"
   ]
  },
  {
   "cell_type": "code",
   "execution_count": 17,
   "metadata": {
    "id": "wccPxYrBFOle"
   },
   "outputs": [],
   "source": [
    "def test_get_patterns_PBC4cip_classifier():\n",
    "  patterns = get_patterns_PBC4cip_classifier('universities.csv', t_count=10)\n",
    "  assert isinstance(patterns,list)\n",
    "  assert len(patterns) >= 3 #should return at least three patterns that complies with restriction\n",
    "  assert patterns[0].Supports[0] - patterns[0].Supports[1] >= 0.3\n",
    "  assert patterns[1].Supports[0] - patterns[1].Supports[1] >= 0.3\n",
    "  assert patterns[2].Supports[0] - patterns[2].Supports[1] >= 0.3\n",
    "  return patterns\n"
   ]
  },
  {
   "cell_type": "markdown",
   "metadata": {
    "id": "ybhnIWj4rO3K"
   },
   "source": [
    "## Random Features\n",
    "5, 10, 15, and 20 random features"
   ]
  },
  {
   "cell_type": "code",
   "execution_count": 18,
   "metadata": {
    "id": "3vRRr_Hcq91e"
   },
   "outputs": [],
   "source": [
    "def rand_feature_selection(num_features):\n",
    "  \"\"\"\n",
    "  This function returns a number of indeces to pop out of the data features\n",
    "  Input: Number of features of the dataset\n",
    "  Output: List of lists containing indices to remove from original data\n",
    "  \"\"\"\n",
    "  random.seed(1)\n",
    "  rand_feat_idx5  = random.sample(range(num_features), num_features-5)\n",
    "  rand_feat_idx10  = random.sample(range(num_features), num_features-10)\n",
    "  rand_feat_idx15  = random.sample(range(num_features), num_features-15)\n",
    "  rand_feat_idx20  = random.sample(range(num_features), num_features-20)\n",
    "\n",
    "  \n",
    "  return [rand_feat_idx5,rand_feat_idx10,rand_feat_idx15,rand_feat_idx20]"
   ]
  },
  {
   "cell_type": "code",
   "execution_count": 19,
   "metadata": {
    "id": "hMR3X6SBLlsj"
   },
   "outputs": [],
   "source": [
    "def test_rand_feature_selection():\n",
    "  feat_list = rand_feature_selection(40)\n",
    "  assert isinstance(feat_list,list)\n",
    "  assert len(feat_list[0]) == 35\n",
    "  assert len(feat_list[1]) == 30\n",
    "  assert len(feat_list[2]) == 25\n",
    "  assert len(feat_list[3]) == 20\n"
   ]
  },
  {
   "cell_type": "code",
   "execution_count": 20,
   "metadata": {
    "id": "IFvYTZ3SLqeU"
   },
   "outputs": [],
   "source": [
    "def random_feature_dataframe_generation(feats, X_train, X_test):\n",
    "  \"\"\"\n",
    "  This function remakes the dataframe with the features selected by the random feature selector\n",
    "  The objective of this function is to restructure the features into the datatype input that PBC4cip uses (pandas DataFrame)\n",
    "  Input: Features chosen by the random attribute selector, and predictors\n",
    "  Output: Pandas DataFrame containing the chosen attributes and the predictor's values\n",
    "  \"\"\"\n",
    "  X_train2 = X_train.copy()\n",
    "  X_test2 = X_test.copy()\n",
    "  for feat in feats:\n",
    "    drop_idx = X_train.columns[feat]\n",
    "    X_train2 = X_train2.drop([drop_idx], axis = 1)\n",
    "    X_test2 = X_test2.drop([drop_idx], axis = 1)\n",
    "  return X_train2, X_test2\n",
    "\n",
    "\n",
    "def get_random_feature_dataframe(csv_file):\n",
    "  X_train, _, X_test, _ = load_train_test_data(csv_file)\n",
    "  feat_list = rand_feature_selection(X_train.shape[1])\n",
    "  X_train_mod = []\n",
    "  X_test_mod = []\n",
    "  for feat in feat_list:\n",
    "    X_tr, X_te = random_feature_dataframe_generation(feat, X_train, X_test)\n",
    "    X_train_mod.append(X_tr)\n",
    "\n",
    "  return X_train_mod\n",
    "\n"
   ]
  },
  {
   "cell_type": "code",
   "execution_count": 21,
   "metadata": {
    "id": "0qVY0fg5QU26"
   },
   "outputs": [],
   "source": [
    "def test_random_feature_dataframe_generation():\n",
    "  X_train, _, X_test, _ = load_train_test_data('universities.csv')\n",
    "  feats = rand_feature_selection(X_train.shape[1])\n",
    "  X_train2, X_test2 = random_feature_dataframe_generation(feats[0], X_train, X_test)\n",
    "  assert X_train2.shape == (140,5)\n",
    "  assert X_test2.shape == (60,5)\n",
    "  assert all(X_train2.columns) == all(['intCol2016', 'cit2017', 'pubTJP2018', 'citPP2016', 'pubPA2016'])\n",
    "  X_train2, X_test2 = random_feature_dataframe_generation(feats[1], X_train, X_test)\n",
    "  assert X_train2.shape == (140,10)\n",
    "  assert X_test2.shape == (60,10)\n",
    "  assert all(X_train2.columns) == all(['intCol2016', 'acaCol2018', 'acaCol2017', 'acaCol2016', 'fwCitImp2018',\n",
    "       'pubTJP2018', 'pubTJP2016', 'citPP2017', 'citPA2018', 'citPA2016'])\n",
    "  \n",
    "def test_get_random_feature_dataframe():\n",
    "  X_train= get_random_feature_dataframe('universities.csv')\n",
    "  assert isinstance(X_train,list)\n",
    "  assert X_train[0].shape == (140,5)\n",
    "  assert X_train[1].shape == (140,10)\n",
    "  assert X_train[2].shape == (140,15)\n",
    "  assert X_train[3].shape == (140,20)"
   ]
  },
  {
   "cell_type": "code",
   "execution_count": 22,
   "metadata": {
    "id": "QimcDG_eQ_g3"
   },
   "outputs": [],
   "source": [
    "def PBC4cip_classifier_RandFeat(csv_file, t_count):\n",
    "  \"\"\"\n",
    "  This function applies the \n",
    "  \"\"\"\n",
    "  _, y_train, _, y_test = load_train_test_data(csv_file)\n",
    "  classifier = PBC4cip(filtering=True,tree_count = t_count)\n",
    "  all_patterns = []\n",
    "  y_test_scores = []\n",
    "  X_train_rf = get_random_feature_dataframe(csv_file)\n",
    "  for i in range(len(X_train_rf)):\n",
    "    all_patterns.append(classifier.fit(X_train_rf[i], y_train))\n",
    "  return all_patterns"
   ]
  },
  {
   "cell_type": "code",
   "execution_count": 23,
   "metadata": {
    "colab": {
     "base_uri": "https://localhost:8080/"
    },
    "id": "grI-ASTVVEW3",
    "outputId": "fb31f050-b79b-4398-c7bc-265e5db87804"
   },
   "outputs": [],
   "source": [
    "def test_PBC4cip_classifier_RandFeat():\n",
    "  all_p = PBC4cip_classifier_RandFeat('universities.csv', t_count= 10)\n",
    "  assert isinstance(all_p,list)\n",
    "  assert len(all_p) == 4\n",
    "  assert len(all_p[0]) == 247\n",
    "  assert len(all_p[1]) == 326\n",
    "  assert all(all_p[0][0].Supports) == all([0.014084507042253521, 0.0])\n",
    "  assert all(all_p[0][0].Items[0].Feature) == all(('pubTJP2018', 'real'))\n"
   ]
  },
  {
   "cell_type": "code",
   "execution_count": 24,
   "metadata": {
    "id": "mmd5od4ASjuF"
   },
   "outputs": [],
   "source": [
    "def evaluate_patterns(patterns, diff = 0.3):\n",
    "  \"\"\"\n",
    "  This function iterates through the patterns found by each of the random selection that was\n",
    "  previously performed and sends them to an auxiliar function to evaluate their support.\n",
    "  The resulting list contains pattern that comply with the restriction of s1_r - s2_r >= 0.3\n",
    "  Input: Patterns from selected random attributes, and diff, which refers to the difference between both classes supports\n",
    "  Output: List of patterns that comply with the difference between class support.\n",
    "  \"\"\"\n",
    "  best_patterns = []\n",
    "  for pattern in patterns:\n",
    "    best_patterns.append(get_best_patterns(pattern, diff))\n",
    "  best_patterns = list(filter(None, best_patterns))\n",
    "  return best_patterns\n",
    "\n",
    "def get_patterns_RandFeat(csv_file, t_count):\n",
    "  all_patterns = PBC4cip_classifier_RandFeat(csv_file, t_count)\n",
    "  get_patterns = []\n",
    "  for patterns in all_patterns:\n",
    "    get_patterns.append(evaluate_patterns(patterns, diff = 0.3))\n",
    "  return get_patterns"
   ]
  },
  {
   "cell_type": "code",
   "execution_count": 25,
   "metadata": {
    "id": "PVk8Fc2NVC8j"
   },
   "outputs": [],
   "source": [
    "def test_evaluate_patterns():\n",
    "  all_p = PBC4cip_classifier_RandFeat('universities.csv', t_count= 10)\n",
    "  best_patterns = evaluate_patterns(all_p[0])\n",
    "  assert isinstance(best_patterns,list)\n",
    "  assert len(best_patterns) == 2\n",
    "  assert isinstance(best_patterns[0].Items,list) and isinstance(best_patterns[1].Items,list)\n",
    "  assert str(bp[0].Items[0]) == 'cit2017 > 90284.000' or str(bp[1].Items[0]) == 'cit2017 > 90284.000'\n",
    "  assert bp[0].Supports[0] + bp[0].Supports[1] >= 0.3\n",
    "\n",
    "\n",
    "def test_get_patterns_RandFeat():\n",
    "  get_patterns = get_patterns_RandFeat('universities.csv', t_count= 10)\n",
    "  assert isinstance(get_patterns,list)\n",
    "  assert len(get_patterns) == 4\n",
    "  assert len(get_patterns[0]) == 2\n",
    "  assert str(get_patterns[0][0].Items[0]) == 'cit2017 > 90284.000'\n",
    "  assert get_patterns[0][0].Supports[0] - get_patterns[0][0].Supports[1] >= 0.3 "
   ]
  },
  {
   "cell_type": "markdown",
   "metadata": {
    "id": "VJXieDQWXeuz"
   },
   "source": [
    "## Attribute Selection Algorithms\n",
    "\n",
    "Select K best\n",
    "\n",
    "Recursive Feature Elimination\n",
    "\n",
    "Select From Model - Logistic Regression L2 penalty\n",
    "\n",
    "Feature importance - Extra Trees Classifier"
   ]
  },
  {
   "cell_type": "code",
   "execution_count": 26,
   "metadata": {
    "id": "bJ79esI9HL-T"
   },
   "outputs": [],
   "source": [
    "def algorithms_attribute_selection():\n",
    "  \"\"\"\n",
    "  This function returns a number of indeces to pop out of the data features\n",
    "  Input: Number of features of the dataset\n",
    "  Output: List of lists containing indices to remove from original data\n",
    "  \"\"\"\n",
    "  random.seed(1)\n",
    "  f_value_alg = SelectKBest(score_func=f_classif, k=10)\n",
    "\n",
    "  model = LogisticRegression(solver='lbfgs', random_state = 0)\n",
    "  rfe = RFE(model, 10)\n",
    "\n",
    "  model = LogisticRegression(C = 1, penalty = 'l2', solver='lbfgs', random_state= 0)\n",
    "  sfm = SelectFromModel(model)\n",
    "\n",
    "  ETC = ExtraTreesClassifier(n_estimators=10)\n",
    "  \n",
    "  return [f_value_alg,rfe,sfm,ETC]"
   ]
  },
  {
   "cell_type": "code",
   "execution_count": 27,
   "metadata": {
    "id": "nlC7BsqwHLPN"
   },
   "outputs": [],
   "source": [
    "def test_algorithm_feature_selection():\n",
    "  feat_list = algorithms_attribute_selection()\n",
    "  assert isinstance(feat_list,list)\n",
    "  assert type(feat_list[0]).__name__ == 'SelectKBest'\n",
    "  assert type(feat_list[1]).__name__ == 'RFE' \n",
    "  assert type(feat_list[2]).__name__ == 'SelectFromModel'\n",
    "  assert type(feat_list[3]).__name__ == 'ExtraTreesClassifier'\n",
    "test_algorithm_feature_selection()"
   ]
  },
  {
   "cell_type": "code",
   "execution_count": 28,
   "metadata": {
    "id": "rzs5Y_JVRVRw"
   },
   "outputs": [],
   "source": [
    "def ETC_attribute_selection(feats, X_train):\n",
    "  ETC_selected_attr_idx = []\n",
    "  ETC_selected_attr = []\n",
    "  new_Xtrain = {}\n",
    "  feat2 = list(feats.copy())\n",
    "\n",
    "  for i in range(10):\n",
    "    ETC_selected_attr_idx.append(list(feats).index(max(feat2)))\n",
    "    feat2.pop(feat2.index(max(feat2)))\n",
    "  \n",
    "  for idx in ETC_selected_attr_idx:\n",
    "    ETC_selected_attr.append(X_train.columns[idx])\n",
    "\n",
    "  for column in ETC_selected_attr:\n",
    "    new_Xtrain[column] = X_train[column]\n",
    "  \n",
    "  ETC_df = pd.DataFrame.from_dict(new_Xtrain)\n",
    "  \n",
    "  return ETC_df\n"
   ]
  },
  {
   "cell_type": "code",
   "execution_count": 57,
   "metadata": {
    "id": "9ySbqPHs1N_Y"
   },
   "outputs": [],
   "source": [
    "def test_ETC_attribute_selection():\n",
    "  ETC = ExtraTreesClassifier(n_estimators=10)\n",
    "  X_tr, y_tr, X_te, y_te = load_train_test_data('universities.csv')\n",
    "  fit = ETC.fit(X_tr, y_tr)\n",
    "  features = fit.feature_importances_\n",
    "  df_ETC = ETC_attribute_selection(features, X_tr)\n",
    "  assert df_ETC.shape[0] == 140 # complete list of train set\n",
    "  assert df_ETC.shape[1] == 5\n",
    "  assert len(df_ETC.columns) == 5\n",
    "  assert all(df_ETC.columns) == all(['pub2017', 'pub2018', 'pubTJP2018', 'cit2016', 'h5Index', 'pub2016',\n",
    "       'cit2017', 'authors2017', 'acaCol2017', 'acaCol2016'])\n",
    "  assert df_ETC['pub2017'][0] == 7617\n",
    "# (test_ETC_attribute_selection())"
   ]
  },
  {
   "cell_type": "code",
   "execution_count": 58,
   "metadata": {
    "id": "pjWY6SBQRak5"
   },
   "outputs": [],
   "source": [
    "def fit_selector(selector, X_train, y_train):\n",
    "  if type(selector).__name__ == 'ExtraTreesClassifier':\n",
    "    fit = selector.fit(X_train, y_train)\n",
    "    return ETC_attribute_selection(fit.feature_importances_, X_train)\n",
    "  else:\n",
    "    fit = selector.fit(X_train, y_train)\n",
    "    return Kbest_RFE_SFM_new_df(X_train, fit.transform(X_train))\n",
    "\n",
    "\n",
    "def Kbest_RFE_SFM_new_df(X_train, features):\n",
    "  attributes = []\n",
    "  for column in X_train.columns:\n",
    "    attributes.append(return_selected_attributes(X_train, column, features))\n",
    "  attributes = list(filter(None, attributes))\n",
    "  if len(attributes) != 5:\n",
    "    attributes = attributes[0:5]\n",
    "    features = features[:,0:5]\n",
    "  new_X_train = pd.DataFrame(features, columns = attributes)\n",
    "\n",
    "  return new_X_train\n",
    "\n",
    "def return_selected_attributes(X_tr, column,features):\n",
    "  if X_tr[column][0] in features[0]:\n",
    "    return column"
   ]
  },
  {
   "cell_type": "code",
   "execution_count": 59,
   "metadata": {
    "id": "apcWjtJR3a6i"
   },
   "outputs": [],
   "source": [
    "def test_fit_selector():\n",
    "  X_tr, y_tr, _, _ = load_train_test_data('universities.csv')\n",
    "  feat_list = algorithms_attribute_selection()\n",
    "  ETC_attribute_selection = fit_selector(feat_list[-1], X_tr, y_tr)\n",
    "  assert ETC_attribute_selection.shape == (140,5)\n",
    "  assert isinstance(ETC_attribute_selection,pd.DataFrame)\n",
    "  Kbest_new_df = fit_selector(feat_list[0], X_tr, y_tr)\n",
    "  assert Kbest_new_df.shape == (140,5) and isinstance(Kbest_new_df, pd.DataFrame)\n",
    "  RFE_new_df = fit_selector(feat_list[1], X_tr, y_tr)\n",
    "  assert RFE_new_df.shape == (140,5) and isinstance(RFE_new_df,pd.DataFrame)\n",
    "  SFM_new_df = fit_selector(feat_list[2], X_tr, y_tr)\n",
    "  assert SFM_new_df.shape == (140,5) and isinstance(SFM_new_df,pd.DataFrame)\n",
    "\n",
    "def test_Kbest_RFE_SFM_new_df():\n",
    "  X_train, y_train, _, _ = load_train_test_data('universities.csv')\n",
    "  feat_list = algorithms_attribute_selection()\n",
    "  fit = feat_list[0].fit(X_train,y_train)\n",
    "  features = fit.transform(X_train)\n",
    "\n",
    "  new_df_Kbest = Kbest_RFE_SFM_new_df(X_train, features)\n",
    "  assert new_df_Kbest.shape == (140,5)\n",
    "  \n",
    "  fit = feat_list[1].fit(X_train,y_train)\n",
    "  features = fit.transform(X_train)\n",
    "  new_df_RFE = Kbest_RFE_SFM_new_df(X_train, features)\n",
    "  assert new_df_RFE.shape == (140,5)\n",
    "\n",
    "  fit = feat_list[2].fit(X_train,y_train)\n",
    "  features = fit.transform(X_train)\n",
    "  new_df_SFM = Kbest_RFE_SFM_new_df(X_train, features)\n",
    "  assert new_df_SFM.shape == (140,5)\n",
    "\n",
    "  assert isinstance(new_df_Kbest, pd.DataFrame)\n",
    "  assert isinstance(new_df_RFE, pd.DataFrame)\n",
    "  assert isinstance(new_df_SFM, pd.DataFrame)\n",
    "\n",
    "def test_return_selected_attributes():\n",
    "  X_train, y_train, _, _ = load_train_test_data('universities.csv')\n",
    "  column = X_train.columns[0]\n",
    "  features = X_train.values\n",
    "  col = return_selected_attributes(X_train, column, features)\n",
    "  assert col == column and col == 'intCol2018'\n",
    "  \n",
    "  column = X_train.columns[3]\n",
    "  col = return_selected_attributes(X_train, column, features)\n",
    "  assert col == column and col == 'acaCol2018'\n",
    "\n",
    "  feat_list = algorithms_attribute_selection()\n",
    "  fit = feat_list[0].fit(X_train,y_train)\n",
    "  features = fit.transform(X_train)\n",
    "  column = X_train.columns[2]\n",
    "  col = return_selected_attributes(X_train, column, features)\n",
    "  assert col == None\n",
    "\n",
    "  column = X_train.columns[-1]\n",
    "  col = return_selected_attributes(X_train, column, features)\n",
    "  assert col == column and col == 'h5Index'\n",
    "\n",
    "  attributes = []\n",
    "  for column in X_train.columns:\n",
    "    attributes.append(return_selected_attributes(X_train, column, features))\n",
    "  attributes = list(filter(None, attributes))\n",
    "  assert len(attributes) == 5"
   ]
  },
  {
   "cell_type": "code",
   "execution_count": 60,
   "metadata": {
    "id": "U5PfmWQHQ1Iy"
   },
   "outputs": [],
   "source": [
    "def attribute_selection_df_generator(csv_file):\n",
    "  X_tr, y_tr, X_te, y_te = load_train_test_data(csv_file)\n",
    "  selectors = algorithms_attribute_selection()\n",
    "  new_X_trains = []\n",
    "  # print(selectors)\n",
    "  for selector in selectors:\n",
    "    new_X_trains.append(fit_selector(selector, X_tr, y_tr))\n",
    "  return new_X_trains"
   ]
  },
  {
   "cell_type": "code",
   "execution_count": 61,
   "metadata": {
    "id": "8M_ZoewBmUSc"
   },
   "outputs": [],
   "source": [
    "def test_attribute_selection_df_generator():\n",
    "  new_X_trains = attribute_selection_df_generator('universities.csv')\n",
    "  assert len(new_X_trains) == 4\n",
    "  assert new_X_trains[0].shape == (140,10)\n",
    "  assert new_X_trains[1].shape == (140,10)\n",
    "  assert new_X_trains[2].shape == (140,10)\n",
    "  assert isinstance(new_X_trains[0],pd.DataFrame) and isinstance(new_X_trains[1],pd.DataFrame) and isinstance(new_X_trains[2],pd.DataFrame) and isinstance(new_X_trains[3],pd.DataFrame)\n",
    "\n",
    "\n",
    "  return new_X_trains\n"
   ]
  },
  {
   "cell_type": "code",
   "execution_count": 62,
   "metadata": {
    "id": "E5JUnlZ11p7h"
   },
   "outputs": [],
   "source": [
    "def PBC4cip_classifier_SelectionAlg(csv_file, t_count):\n",
    "  _, y_train, _, _ = load_train_test_data(csv_file)\n",
    "  classifier = PBC4cip(filtering=True,tree_count = t_count)\n",
    "  all_patterns = []\n",
    "  X_train_selectalgor = attribute_selection_df_generator(csv_file)\n",
    "  for i in range(len(X_train_selectalgor)):\n",
    "    all_patterns.append(classifier.fit(X_train_selectalgor[i], y_train))\n",
    "  return all_patterns"
   ]
  },
  {
   "cell_type": "code",
   "execution_count": 63,
   "metadata": {
    "colab": {
     "base_uri": "https://localhost:8080/"
    },
    "id": "ZR-TvkBE5k_x",
    "outputId": "5b6725ea-a86f-4997-a28d-288869b4bdd4"
   },
   "outputs": [],
   "source": [
    "def test_PBC4cip_classifier_SelectionAlg():\n",
    "  all_patterns = PBC4cip_classifier_SelectionAlg('universities.csv', t_count=10)\n",
    "  assert len(all_patterns) == 4\n",
    "  assert isinstance(all_patterns[0],list) and isinstance(all_patterns[1],list) and isinstance(all_patterns[2],list) and isinstance(all_patterns[3],list)\n",
    "  assert len(all_patterns[0]) >= 200 and len(all_patterns[1]) >= 200 and len(all_patterns[2]) >= 200 and len(all_patterns[3]) >= 200\n",
    "  assert isinstance(all_patterns[0][0].Items,list) and isinstance(all_patterns[0][0].Supports,list)\n",
    "  assert isinstance(allp[0][0].Supports[0], float)\n",
    "\n",
    "# test_PBC4cip_classifier_SelectionAlg()"
   ]
  },
  {
   "cell_type": "code",
   "execution_count": 64,
   "metadata": {
    "id": "AAWKlsHx1p4C"
   },
   "outputs": [],
   "source": [
    "def get_patterns_SelectionAlg(csv_file, t_count):\n",
    "  all_patterns = PBC4cip_classifier_SelectionAlg(csv_file, t_count)\n",
    "  get_patterns = []\n",
    "  for patterns in all_patterns:\n",
    "    get_patterns.append(evaluate_patterns(patterns, diff = 0.3))\n",
    "    \n",
    "  return get_patterns"
   ]
  },
  {
   "cell_type": "code",
   "execution_count": 65,
   "metadata": {
    "id": "UPnhX-4P7BqW"
   },
   "outputs": [],
   "source": [
    "def test_get_patterns_SelectionAlg():\n",
    "  patterns = get_patterns_SelectionAlg('universities.csv', t_count=10)\n",
    "  assert len(patterns) == 4\n",
    "  assert len(patterns[0]) == 4\n",
    "  assert len(patterns[3]) == 1\n",
    "  patt = []\n",
    "  for pattern in patterns[0]:\n",
    "    patt.append(str(pattern.Items[0]))\n",
    "  assert 'cit2017 > 75794.500' in patt\n",
    "  patt = []\n",
    "  for pattern in patterns[2]:\n",
    "    patt.append(str(pattern.Items[0]))\n",
    "  assert 'h5Index > 167.500' in patt"
   ]
  },
  {
   "cell_type": "markdown",
   "metadata": {
    "id": "LLOiHeh0AyxL"
   },
   "source": [
    "## Results"
   ]
  },
  {
   "cell_type": "markdown",
   "metadata": {
    "id": "XaB1EVF4Gq9i"
   },
   "source": [
    "### 10,000 trees patterns results"
   ]
  },
  {
   "cell_type": "code",
   "execution_count": 38,
   "metadata": {
    "colab": {
     "base_uri": "https://localhost:8080/"
    },
    "id": "nOCan9NDGqhZ",
    "outputId": "670b1cd2-276e-4b3e-e00b-d66a69eeca68"
   },
   "outputs": [
    {
     "name": "stderr",
     "output_type": "stream",
     "text": [
      "                                                                                                                       \r"
     ]
    },
    {
     "ename": "KeyboardInterrupt",
     "evalue": "",
     "output_type": "error",
     "traceback": [
      "\u001b[1;31m---------------------------------------------------------------------------\u001b[0m",
      "\u001b[1;31mKeyboardInterrupt\u001b[0m                         Traceback (most recent call last)",
      "\u001b[1;32m<ipython-input-38-555346fcb3c4>\u001b[0m in \u001b[0;36m<module>\u001b[1;34m\u001b[0m\n\u001b[1;32m----> 1\u001b[1;33m \u001b[0mget_patterns_PBC4cip_classifier\u001b[0m\u001b[1;33m(\u001b[0m\u001b[1;34m'Universities_RQS_Update.csv'\u001b[0m\u001b[1;33m,\u001b[0m \u001b[0mt_count\u001b[0m \u001b[1;33m=\u001b[0m \u001b[1;36m10000\u001b[0m\u001b[1;33m)\u001b[0m\u001b[1;33m\u001b[0m\u001b[1;33m\u001b[0m\u001b[0m\n\u001b[0m",
      "\u001b[1;32m<ipython-input-16-32525d63cbb6>\u001b[0m in \u001b[0;36mget_patterns_PBC4cip_classifier\u001b[1;34m(csv_file, t_count, diff)\u001b[0m\n\u001b[0;32m      1\u001b[0m \u001b[1;32mdef\u001b[0m \u001b[0mget_patterns_PBC4cip_classifier\u001b[0m\u001b[1;33m(\u001b[0m\u001b[0mcsv_file\u001b[0m\u001b[1;33m,\u001b[0m \u001b[0mt_count\u001b[0m\u001b[1;33m,\u001b[0m \u001b[0mdiff\u001b[0m \u001b[1;33m=\u001b[0m \u001b[1;36m0.3\u001b[0m\u001b[1;33m)\u001b[0m\u001b[1;33m:\u001b[0m\u001b[1;33m\u001b[0m\u001b[1;33m\u001b[0m\u001b[0m\n\u001b[1;32m----> 2\u001b[1;33m   \u001b[0mall_patterns\u001b[0m \u001b[1;33m=\u001b[0m \u001b[0mPBC4cip_classifier\u001b[0m\u001b[1;33m(\u001b[0m\u001b[0mcsv_file\u001b[0m\u001b[1;33m,\u001b[0m \u001b[0mt_count\u001b[0m\u001b[1;33m)\u001b[0m\u001b[1;33m\u001b[0m\u001b[1;33m\u001b[0m\u001b[0m\n\u001b[0m\u001b[0;32m      3\u001b[0m   \u001b[0mbest_patterns\u001b[0m \u001b[1;33m=\u001b[0m \u001b[1;33m[\u001b[0m\u001b[1;33m]\u001b[0m\u001b[1;33m\u001b[0m\u001b[1;33m\u001b[0m\u001b[0m\n\u001b[0;32m      4\u001b[0m   \u001b[1;32mfor\u001b[0m \u001b[0mpattern\u001b[0m \u001b[1;32min\u001b[0m \u001b[0mall_patterns\u001b[0m\u001b[1;33m:\u001b[0m\u001b[1;33m\u001b[0m\u001b[1;33m\u001b[0m\u001b[0m\n\u001b[0;32m      5\u001b[0m     \u001b[0mbest_patterns\u001b[0m\u001b[1;33m.\u001b[0m\u001b[0mappend\u001b[0m\u001b[1;33m(\u001b[0m\u001b[0mget_best_patterns\u001b[0m\u001b[1;33m(\u001b[0m\u001b[0mpattern\u001b[0m\u001b[1;33m,\u001b[0m \u001b[0mdiff\u001b[0m\u001b[1;33m)\u001b[0m\u001b[1;33m)\u001b[0m\u001b[1;33m\u001b[0m\u001b[1;33m\u001b[0m\u001b[0m\n",
      "\u001b[1;32m<ipython-input-11-562c57976d82>\u001b[0m in \u001b[0;36mPBC4cip_classifier\u001b[1;34m(csv_file, t_count)\u001b[0m\n\u001b[0;32m     10\u001b[0m   \u001b[0mX_train\u001b[0m\u001b[1;33m,\u001b[0m \u001b[0my_train\u001b[0m\u001b[1;33m,\u001b[0m \u001b[0mX_test\u001b[0m\u001b[1;33m,\u001b[0m \u001b[0my_test\u001b[0m \u001b[1;33m=\u001b[0m \u001b[0mload_train_test_data\u001b[0m\u001b[1;33m(\u001b[0m\u001b[0mcsv_file\u001b[0m\u001b[1;33m)\u001b[0m\u001b[1;33m\u001b[0m\u001b[1;33m\u001b[0m\u001b[0m\n\u001b[0;32m     11\u001b[0m   \u001b[0mclassifier\u001b[0m \u001b[1;33m=\u001b[0m \u001b[0mPBC4cip\u001b[0m\u001b[1;33m(\u001b[0m\u001b[0mfiltering\u001b[0m\u001b[1;33m=\u001b[0m\u001b[1;32mTrue\u001b[0m\u001b[1;33m,\u001b[0m \u001b[0mtree_count\u001b[0m \u001b[1;33m=\u001b[0m \u001b[0mt_count\u001b[0m\u001b[1;33m)\u001b[0m\u001b[1;33m\u001b[0m\u001b[1;33m\u001b[0m\u001b[0m\n\u001b[1;32m---> 12\u001b[1;33m   \u001b[0mpatterns\u001b[0m \u001b[1;33m=\u001b[0m \u001b[0mclassifier\u001b[0m\u001b[1;33m.\u001b[0m\u001b[0mfit\u001b[0m\u001b[1;33m(\u001b[0m\u001b[0mX_train\u001b[0m\u001b[1;33m,\u001b[0m \u001b[0my_train\u001b[0m\u001b[1;33m)\u001b[0m\u001b[1;33m\u001b[0m\u001b[1;33m\u001b[0m\u001b[0m\n\u001b[0m\u001b[0;32m     13\u001b[0m   \u001b[1;32mreturn\u001b[0m \u001b[0mpatterns\u001b[0m\u001b[1;33m\u001b[0m\u001b[1;33m\u001b[0m\u001b[0m\n",
      "\u001b[1;32m~\\anaconda3\\lib\\site-packages\\PBC4cip\\core\\PBC4cip.py\u001b[0m in \u001b[0;36mfit\u001b[1;34m(self, X, y)\u001b[0m\n\u001b[0;32m    108\u001b[0m             \u001b[0mminer\u001b[0m\u001b[1;33m.\u001b[0m\u001b[0mdecisionTreeBuilder\u001b[0m \u001b[1;33m=\u001b[0m \u001b[0mDecisionTreeBuilder\u001b[0m\u001b[1;33m(\u001b[0m\u001b[0mself\u001b[0m\u001b[1;33m.\u001b[0m\u001b[0mdataset\u001b[0m\u001b[1;33m,\u001b[0m \u001b[0mX\u001b[0m\u001b[1;33m,\u001b[0m \u001b[0my\u001b[0m\u001b[1;33m)\u001b[0m\u001b[1;33m\u001b[0m\u001b[1;33m\u001b[0m\u001b[0m\n\u001b[0;32m    109\u001b[0m             \u001b[0mminer\u001b[0m\u001b[1;33m.\u001b[0m\u001b[0mdecisionTreeBuilder\u001b[0m\u001b[1;33m.\u001b[0m\u001b[0mdistributionEvaluator\u001b[0m \u001b[1;33m=\u001b[0m \u001b[0mself\u001b[0m\u001b[1;33m.\u001b[0m\u001b[0mdistribution_evaluator\u001b[0m\u001b[1;33m\u001b[0m\u001b[1;33m\u001b[0m\u001b[0m\n\u001b[1;32m--> 110\u001b[1;33m         \u001b[0mself\u001b[0m\u001b[1;33m.\u001b[0m\u001b[0mEmergingPatterns\u001b[0m \u001b[1;33m=\u001b[0m \u001b[0mminer\u001b[0m\u001b[1;33m.\u001b[0m\u001b[0mMine\u001b[0m\u001b[1;33m(\u001b[0m\u001b[1;33m)\u001b[0m\u001b[1;33m\u001b[0m\u001b[1;33m\u001b[0m\u001b[0m\n\u001b[0m\u001b[0;32m    111\u001b[0m         \u001b[1;32mif\u001b[0m \u001b[0mself\u001b[0m\u001b[1;33m.\u001b[0m\u001b[0mfilterer\u001b[0m \u001b[1;32mis\u001b[0m \u001b[1;32mnot\u001b[0m \u001b[1;32mNone\u001b[0m\u001b[1;33m:\u001b[0m\u001b[1;33m\u001b[0m\u001b[1;33m\u001b[0m\u001b[0m\n\u001b[0;32m    112\u001b[0m             \u001b[0mself\u001b[0m\u001b[1;33m.\u001b[0m\u001b[0mEmergingPatterns\u001b[0m \u001b[1;33m=\u001b[0m \u001b[0mself\u001b[0m\u001b[1;33m.\u001b[0m\u001b[0mfilterer\u001b[0m\u001b[1;33m.\u001b[0m\u001b[0mFilter\u001b[0m\u001b[1;33m(\u001b[0m\u001b[0mself\u001b[0m\u001b[1;33m.\u001b[0m\u001b[0mEmergingPatterns\u001b[0m\u001b[1;33m)\u001b[0m\u001b[1;33m\u001b[0m\u001b[1;33m\u001b[0m\u001b[0m\n",
      "\u001b[1;32m~\\anaconda3\\lib\\site-packages\\PBC4cip\\core\\PatternMiner.py\u001b[0m in \u001b[0;36mMine\u001b[1;34m(self)\u001b[0m\n\u001b[0;32m     90\u001b[0m         self.__emergingPatternSimplifier = EmergingPatternSimplifier(\n\u001b[0;32m     91\u001b[0m             ItemComparer().Compare)\n\u001b[1;32m---> 92\u001b[1;33m         self.Patterns = self.__DoMine(\n\u001b[0m\u001b[0;32m     93\u001b[0m             self.__emergingPatternCreator, self.PatternFound)\n\u001b[0;32m     94\u001b[0m         \u001b[0mself\u001b[0m\u001b[1;33m.\u001b[0m\u001b[0mPatternsList\u001b[0m \u001b[1;33m=\u001b[0m \u001b[1;33m[\u001b[0m\u001b[1;33m]\u001b[0m\u001b[1;33m\u001b[0m\u001b[1;33m\u001b[0m\u001b[0m\n",
      "\u001b[1;32m~\\anaconda3\\lib\\site-packages\\PBC4cip\\core\\PatternMiner.py\u001b[0m in \u001b[0;36m__DoMine\u001b[1;34m(self, emergingPatternCreator, action)\u001b[0m\n\u001b[0;32m    109\u001b[0m         \u001b[1;32mfor\u001b[0m \u001b[0mi\u001b[0m \u001b[1;32min\u001b[0m \u001b[0mtqdm\u001b[0m\u001b[1;33m(\u001b[0m\u001b[0mrange\u001b[0m\u001b[1;33m(\u001b[0m\u001b[0mself\u001b[0m\u001b[1;33m.\u001b[0m\u001b[0mTreeCount\u001b[0m\u001b[1;33m)\u001b[0m\u001b[1;33m,\u001b[0m \u001b[0munit\u001b[0m\u001b[1;33m=\u001b[0m\u001b[1;34m\"tree\"\u001b[0m\u001b[1;33m,\u001b[0m \u001b[0mdesc\u001b[0m\u001b[1;33m=\u001b[0m\u001b[1;34m\"Building trees and extracting patterns\"\u001b[0m\u001b[1;33m,\u001b[0m \u001b[0mleave\u001b[0m\u001b[1;33m=\u001b[0m\u001b[1;32mFalse\u001b[0m\u001b[1;33m)\u001b[0m\u001b[1;33m:\u001b[0m\u001b[1;33m\u001b[0m\u001b[1;33m\u001b[0m\u001b[0m\n\u001b[0;32m    110\u001b[0m             \u001b[0mdecision_tree_builder\u001b[0m\u001b[1;33m.\u001b[0m\u001b[0mOnSelectingFeaturesToConsider\u001b[0m \u001b[1;33m=\u001b[0m \u001b[0mSampleWithoutRepetition\u001b[0m\u001b[1;33m\u001b[0m\u001b[1;33m\u001b[0m\u001b[0m\n\u001b[1;32m--> 111\u001b[1;33m             \u001b[0mtree\u001b[0m \u001b[1;33m=\u001b[0m \u001b[0mdecision_tree_builder\u001b[0m\u001b[1;33m.\u001b[0m\u001b[0mBuild\u001b[0m\u001b[1;33m(\u001b[0m\u001b[1;33m)\u001b[0m\u001b[1;33m\u001b[0m\u001b[1;33m\u001b[0m\u001b[0m\n\u001b[0m\u001b[0;32m    112\u001b[0m             \u001b[0mtreeClassifier\u001b[0m \u001b[1;33m=\u001b[0m \u001b[0mDecisionTreeClassifier\u001b[0m\u001b[1;33m(\u001b[0m\u001b[0mtree\u001b[0m\u001b[1;33m)\u001b[0m\u001b[1;33m\u001b[0m\u001b[1;33m\u001b[0m\u001b[0m\n\u001b[0;32m    113\u001b[0m             \u001b[0memergingPatternCreator\u001b[0m\u001b[1;33m.\u001b[0m\u001b[0mExtractPatterns\u001b[0m\u001b[1;33m(\u001b[0m\u001b[0mtreeClassifier\u001b[0m\u001b[1;33m,\u001b[0m \u001b[0maction\u001b[0m\u001b[1;33m)\u001b[0m\u001b[1;33m\u001b[0m\u001b[1;33m\u001b[0m\u001b[0m\n",
      "\u001b[1;32m~\\anaconda3\\lib\\site-packages\\PBC4cip\\core\\DecisionTreeBuilder.py\u001b[0m in \u001b[0;36mBuild\u001b[1;34m(self)\u001b[0m\n\u001b[0;32m    100\u001b[0m         \u001b[0mresult\u001b[0m\u001b[1;33m.\u001b[0m\u001b[0mTreeRootNode\u001b[0m \u001b[1;33m=\u001b[0m \u001b[0mDecisionTreeNode\u001b[0m\u001b[1;33m(\u001b[0m\u001b[0mparentDistribution\u001b[0m\u001b[1;33m)\u001b[0m\u001b[1;33m\u001b[0m\u001b[1;33m\u001b[0m\u001b[0m\n\u001b[0;32m    101\u001b[0m \u001b[1;33m\u001b[0m\u001b[0m\n\u001b[1;32m--> 102\u001b[1;33m         self.__FillNode(result.TreeRootNode,\n\u001b[0m\u001b[0;32m    103\u001b[0m                       filteredObjMembership, 0, currentContext)\n\u001b[0;32m    104\u001b[0m         \u001b[1;32mreturn\u001b[0m \u001b[0mresult\u001b[0m\u001b[1;33m\u001b[0m\u001b[1;33m\u001b[0m\u001b[0m\n",
      "\u001b[1;32m~\\anaconda3\\lib\\site-packages\\PBC4cip\\core\\DecisionTreeBuilder.py\u001b[0m in \u001b[0;36m__FillNode\u001b[1;34m(self, node, instanceTuples, level, currentContext)\u001b[0m\n\u001b[0;32m    161\u001b[0m                 \u001b[0mnode\u001b[0m\u001b[1;33m.\u001b[0m\u001b[0mChildren\u001b[0m\u001b[1;33m.\u001b[0m\u001b[0mappend\u001b[0m\u001b[1;33m(\u001b[0m\u001b[0mchildNode\u001b[0m\u001b[1;33m)\u001b[0m\u001b[1;33m\u001b[0m\u001b[1;33m\u001b[0m\u001b[0m\n\u001b[0;32m    162\u001b[0m \u001b[1;33m\u001b[0m\u001b[0m\n\u001b[1;32m--> 163\u001b[1;33m                 self.__FillNode(\n\u001b[0m\u001b[0;32m    164\u001b[0m                     childNode, instancesPerChildNode[index], level + 1, currentContext)\n\u001b[0;32m    165\u001b[0m \u001b[1;33m\u001b[0m\u001b[0m\n",
      "\u001b[1;32m~\\anaconda3\\lib\\site-packages\\PBC4cip\\core\\DecisionTreeBuilder.py\u001b[0m in \u001b[0;36m__FillNode\u001b[1;34m(self, node, instanceTuples, level, currentContext)\u001b[0m\n\u001b[0;32m    161\u001b[0m                 \u001b[0mnode\u001b[0m\u001b[1;33m.\u001b[0m\u001b[0mChildren\u001b[0m\u001b[1;33m.\u001b[0m\u001b[0mappend\u001b[0m\u001b[1;33m(\u001b[0m\u001b[0mchildNode\u001b[0m\u001b[1;33m)\u001b[0m\u001b[1;33m\u001b[0m\u001b[1;33m\u001b[0m\u001b[0m\n\u001b[0;32m    162\u001b[0m \u001b[1;33m\u001b[0m\u001b[0m\n\u001b[1;32m--> 163\u001b[1;33m                 self.__FillNode(\n\u001b[0m\u001b[0;32m    164\u001b[0m                     childNode, instancesPerChildNode[index], level + 1, currentContext)\n\u001b[0;32m    165\u001b[0m \u001b[1;33m\u001b[0m\u001b[0m\n",
      "\u001b[1;32m~\\anaconda3\\lib\\site-packages\\PBC4cip\\core\\DecisionTreeBuilder.py\u001b[0m in \u001b[0;36m__FillNode\u001b[1;34m(self, node, instanceTuples, level, currentContext)\u001b[0m\n\u001b[0;32m    161\u001b[0m                 \u001b[0mnode\u001b[0m\u001b[1;33m.\u001b[0m\u001b[0mChildren\u001b[0m\u001b[1;33m.\u001b[0m\u001b[0mappend\u001b[0m\u001b[1;33m(\u001b[0m\u001b[0mchildNode\u001b[0m\u001b[1;33m)\u001b[0m\u001b[1;33m\u001b[0m\u001b[1;33m\u001b[0m\u001b[0m\n\u001b[0;32m    162\u001b[0m \u001b[1;33m\u001b[0m\u001b[0m\n\u001b[1;32m--> 163\u001b[1;33m                 self.__FillNode(\n\u001b[0m\u001b[0;32m    164\u001b[0m                     childNode, instancesPerChildNode[index], level + 1, currentContext)\n\u001b[0;32m    165\u001b[0m \u001b[1;33m\u001b[0m\u001b[0m\n",
      "\u001b[1;32m~\\anaconda3\\lib\\site-packages\\PBC4cip\\core\\DecisionTreeBuilder.py\u001b[0m in \u001b[0;36m__FillNode\u001b[1;34m(self, node, instanceTuples, level, currentContext)\u001b[0m\n\u001b[0;32m    161\u001b[0m                 \u001b[0mnode\u001b[0m\u001b[1;33m.\u001b[0m\u001b[0mChildren\u001b[0m\u001b[1;33m.\u001b[0m\u001b[0mappend\u001b[0m\u001b[1;33m(\u001b[0m\u001b[0mchildNode\u001b[0m\u001b[1;33m)\u001b[0m\u001b[1;33m\u001b[0m\u001b[1;33m\u001b[0m\u001b[0m\n\u001b[0;32m    162\u001b[0m \u001b[1;33m\u001b[0m\u001b[0m\n\u001b[1;32m--> 163\u001b[1;33m                 self.__FillNode(\n\u001b[0m\u001b[0;32m    164\u001b[0m                     childNode, instancesPerChildNode[index], level + 1, currentContext)\n\u001b[0;32m    165\u001b[0m \u001b[1;33m\u001b[0m\u001b[0m\n",
      "\u001b[1;32m~\\anaconda3\\lib\\site-packages\\PBC4cip\\core\\DecisionTreeBuilder.py\u001b[0m in \u001b[0;36m__FillNode\u001b[1;34m(self, node, instanceTuples, level, currentContext)\u001b[0m\n\u001b[0;32m    161\u001b[0m                 \u001b[0mnode\u001b[0m\u001b[1;33m.\u001b[0m\u001b[0mChildren\u001b[0m\u001b[1;33m.\u001b[0m\u001b[0mappend\u001b[0m\u001b[1;33m(\u001b[0m\u001b[0mchildNode\u001b[0m\u001b[1;33m)\u001b[0m\u001b[1;33m\u001b[0m\u001b[1;33m\u001b[0m\u001b[0m\n\u001b[0;32m    162\u001b[0m \u001b[1;33m\u001b[0m\u001b[0m\n\u001b[1;32m--> 163\u001b[1;33m                 self.__FillNode(\n\u001b[0m\u001b[0;32m    164\u001b[0m                     childNode, instancesPerChildNode[index], level + 1, currentContext)\n\u001b[0;32m    165\u001b[0m \u001b[1;33m\u001b[0m\u001b[0m\n",
      "\u001b[1;32m~\\anaconda3\\lib\\site-packages\\PBC4cip\\core\\DecisionTreeBuilder.py\u001b[0m in \u001b[0;36m__FillNode\u001b[1;34m(self, node, instanceTuples, level, currentContext)\u001b[0m\n\u001b[0;32m    161\u001b[0m                 \u001b[0mnode\u001b[0m\u001b[1;33m.\u001b[0m\u001b[0mChildren\u001b[0m\u001b[1;33m.\u001b[0m\u001b[0mappend\u001b[0m\u001b[1;33m(\u001b[0m\u001b[0mchildNode\u001b[0m\u001b[1;33m)\u001b[0m\u001b[1;33m\u001b[0m\u001b[1;33m\u001b[0m\u001b[0m\n\u001b[0;32m    162\u001b[0m \u001b[1;33m\u001b[0m\u001b[0m\n\u001b[1;32m--> 163\u001b[1;33m                 self.__FillNode(\n\u001b[0m\u001b[0;32m    164\u001b[0m                     childNode, instancesPerChildNode[index], level + 1, currentContext)\n\u001b[0;32m    165\u001b[0m \u001b[1;33m\u001b[0m\u001b[0m\n",
      "\u001b[1;32m~\\anaconda3\\lib\\site-packages\\PBC4cip\\core\\DecisionTreeBuilder.py\u001b[0m in \u001b[0;36m__FillNode\u001b[1;34m(self, node, instanceTuples, level, currentContext)\u001b[0m\n\u001b[0;32m    122\u001b[0m                     \u001b[0msplitIterator\u001b[0m \u001b[1;33m=\u001b[0m \u001b[0mself\u001b[0m\u001b[1;33m.\u001b[0m\u001b[0mSplitIteratorProvider\u001b[0m\u001b[1;33m.\u001b[0m\u001b[0mGetSplitIterator\u001b[0m\u001b[1;33m(\u001b[0m\u001b[0mfeature\u001b[0m\u001b[1;33m)\u001b[0m\u001b[1;33m\u001b[0m\u001b[1;33m\u001b[0m\u001b[0m\n\u001b[0;32m    123\u001b[0m                     \u001b[0msplitIterator\u001b[0m\u001b[1;33m.\u001b[0m\u001b[0mInitialize\u001b[0m\u001b[1;33m(\u001b[0m\u001b[0minstanceTuples\u001b[0m\u001b[1;33m)\u001b[0m\u001b[1;33m\u001b[0m\u001b[1;33m\u001b[0m\u001b[0m\n\u001b[1;32m--> 124\u001b[1;33m                     \u001b[1;32mwhile\u001b[0m \u001b[0msplitIterator\u001b[0m\u001b[1;33m.\u001b[0m\u001b[0mFindNext\u001b[0m\u001b[1;33m(\u001b[0m\u001b[1;33m)\u001b[0m\u001b[1;33m:\u001b[0m\u001b[1;33m\u001b[0m\u001b[1;33m\u001b[0m\u001b[0m\n\u001b[0m\u001b[0;32m    125\u001b[0m                         currentGain = self.distributionEvaluator(\n\u001b[0;32m    126\u001b[0m                             node.Data, splitIterator.CurrentDistribution)\n",
      "\u001b[1;32m~\\anaconda3\\lib\\site-packages\\PBC4cip\\core\\SplitIterator.py\u001b[0m in \u001b[0;36mFindNext\u001b[1;34m(self)\u001b[0m\n\u001b[0;32m    157\u001b[0m \u001b[1;33m\u001b[0m\u001b[0m\n\u001b[0;32m    158\u001b[0m             \u001b[1;32mif\u001b[0m \u001b[0mself\u001b[0m\u001b[1;33m.\u001b[0m\u001b[0mGetFeatureValue\u001b[0m\u001b[1;33m(\u001b[0m\u001b[0minstance\u001b[0m\u001b[1;33m)\u001b[0m \u001b[1;33m!=\u001b[0m \u001b[0mself\u001b[0m\u001b[1;33m.\u001b[0m\u001b[0mGetFeatureValue\u001b[0m\u001b[1;33m(\u001b[0m\u001b[0mself\u001b[0m\u001b[1;33m.\u001b[0m\u001b[0m__sortedInstances\u001b[0m\u001b[1;33m[\u001b[0m\u001b[0mself\u001b[0m\u001b[1;33m.\u001b[0m\u001b[0m__currentIndex\u001b[0m\u001b[1;33m+\u001b[0m\u001b[1;36m1\u001b[0m\u001b[1;33m]\u001b[0m\u001b[1;33m[\u001b[0m\u001b[1;36m0\u001b[0m\u001b[1;33m]\u001b[0m\u001b[1;33m)\u001b[0m\u001b[1;33m:\u001b[0m\u001b[1;33m\u001b[0m\u001b[1;33m\u001b[0m\u001b[0m\n\u001b[1;32m--> 159\u001b[1;33m                 \u001b[0mnextClassValue\u001b[0m \u001b[1;33m=\u001b[0m \u001b[0mself\u001b[0m\u001b[1;33m.\u001b[0m\u001b[0mFindNextClass\u001b[0m\u001b[1;33m(\u001b[0m\u001b[0mself\u001b[0m\u001b[1;33m.\u001b[0m\u001b[0m__currentIndex\u001b[0m \u001b[1;33m+\u001b[0m \u001b[1;36m1\u001b[0m\u001b[1;33m)\u001b[0m\u001b[1;33m\u001b[0m\u001b[1;33m\u001b[0m\u001b[0m\n\u001b[0m\u001b[0;32m    160\u001b[0m                 \u001b[1;32mif\u001b[0m \u001b[1;33m(\u001b[0m\u001b[0mself\u001b[0m\u001b[1;33m.\u001b[0m\u001b[0m__lastClassValue\u001b[0m \u001b[1;33m!=\u001b[0m \u001b[0mnextClassValue\u001b[0m\u001b[1;33m)\u001b[0m \u001b[1;32mor\u001b[0m \u001b[1;33m(\u001b[0m\u001b[0mself\u001b[0m\u001b[1;33m.\u001b[0m\u001b[0m__lastClassValue\u001b[0m \u001b[1;33m==\u001b[0m \u001b[1;33m-\u001b[0m\u001b[1;36m1\u001b[0m \u001b[1;32mand\u001b[0m \u001b[0mnextClassValue\u001b[0m \u001b[1;33m==\u001b[0m \u001b[1;33m-\u001b[0m\u001b[1;36m1\u001b[0m\u001b[1;33m)\u001b[0m\u001b[1;33m:\u001b[0m\u001b[1;33m\u001b[0m\u001b[1;33m\u001b[0m\u001b[0m\n\u001b[0;32m    161\u001b[0m                     self.__selectorFeatureValue = self.__cuttingStrategy(\n",
      "\u001b[1;32m~\\anaconda3\\lib\\site-packages\\PBC4cip\\core\\SplitIterator.py\u001b[0m in \u001b[0;36mFindNextClass\u001b[1;34m(self, index)\u001b[0m\n\u001b[0;32m    172\u001b[0m \u001b[1;33m\u001b[0m\u001b[0m\n\u001b[0;32m    173\u001b[0m     \u001b[1;32mdef\u001b[0m \u001b[0mFindNextClass\u001b[0m\u001b[1;33m(\u001b[0m\u001b[0mself\u001b[0m\u001b[1;33m,\u001b[0m \u001b[0mindex\u001b[0m\u001b[1;33m)\u001b[0m\u001b[1;33m:\u001b[0m\u001b[1;33m\u001b[0m\u001b[1;33m\u001b[0m\u001b[0m\n\u001b[1;32m--> 174\u001b[1;33m         \u001b[0mcurrentClass\u001b[0m \u001b[1;33m=\u001b[0m \u001b[0mself\u001b[0m\u001b[1;33m.\u001b[0m\u001b[0mGetClassValue\u001b[0m\u001b[1;33m(\u001b[0m\u001b[0mself\u001b[0m\u001b[1;33m.\u001b[0m\u001b[0m__sortedInstances\u001b[0m\u001b[1;33m[\u001b[0m\u001b[0mindex\u001b[0m\u001b[1;33m]\u001b[0m\u001b[1;33m[\u001b[0m\u001b[1;36m0\u001b[0m\u001b[1;33m]\u001b[0m\u001b[1;33m)\u001b[0m\u001b[1;33m\u001b[0m\u001b[1;33m\u001b[0m\u001b[0m\n\u001b[0m\u001b[0;32m    175\u001b[0m         \u001b[0mcurrentValue\u001b[0m \u001b[1;33m=\u001b[0m \u001b[0mself\u001b[0m\u001b[1;33m.\u001b[0m\u001b[0mGetFeatureValue\u001b[0m\u001b[1;33m(\u001b[0m\u001b[0mself\u001b[0m\u001b[1;33m.\u001b[0m\u001b[0m__sortedInstances\u001b[0m\u001b[1;33m[\u001b[0m\u001b[0mindex\u001b[0m\u001b[1;33m]\u001b[0m\u001b[1;33m[\u001b[0m\u001b[1;36m0\u001b[0m\u001b[1;33m]\u001b[0m\u001b[1;33m)\u001b[0m\u001b[1;33m\u001b[0m\u001b[1;33m\u001b[0m\u001b[0m\n\u001b[0;32m    176\u001b[0m         \u001b[0mindex\u001b[0m \u001b[1;33m+=\u001b[0m \u001b[1;36m1\u001b[0m\u001b[1;33m\u001b[0m\u001b[1;33m\u001b[0m\u001b[0m\n",
      "\u001b[1;32m~\\anaconda3\\lib\\site-packages\\PBC4cip\\core\\SplitIterator.py\u001b[0m in \u001b[0;36mGetClassValue\u001b[1;34m(self, instance)\u001b[0m\n\u001b[0;32m     91\u001b[0m \u001b[1;33m\u001b[0m\u001b[0m\n\u001b[0;32m     92\u001b[0m     \u001b[1;32mdef\u001b[0m \u001b[0mGetClassValue\u001b[0m\u001b[1;33m(\u001b[0m\u001b[0mself\u001b[0m\u001b[1;33m,\u001b[0m \u001b[0minstance\u001b[0m\u001b[1;33m)\u001b[0m\u001b[1;33m:\u001b[0m\u001b[1;33m\u001b[0m\u001b[1;33m\u001b[0m\u001b[0m\n\u001b[1;32m---> 93\u001b[1;33m         \u001b[1;32mreturn\u001b[0m \u001b[0mself\u001b[0m\u001b[1;33m.\u001b[0m\u001b[0mDataset\u001b[0m\u001b[1;33m.\u001b[0m\u001b[0mGetClasses\u001b[0m\u001b[1;33m(\u001b[0m\u001b[1;33m)\u001b[0m\u001b[1;33m.\u001b[0m\u001b[0mindex\u001b[0m\u001b[1;33m(\u001b[0m\u001b[0minstance\u001b[0m\u001b[1;33m[\u001b[0m\u001b[0mself\u001b[0m\u001b[1;33m.\u001b[0m\u001b[0mDataset\u001b[0m\u001b[1;33m.\u001b[0m\u001b[0mGetClassIdx\u001b[0m\u001b[1;33m(\u001b[0m\u001b[1;33m)\u001b[0m\u001b[1;33m]\u001b[0m\u001b[1;33m)\u001b[0m\u001b[1;33m\u001b[0m\u001b[1;33m\u001b[0m\u001b[0m\n\u001b[0m\u001b[0;32m     94\u001b[0m \u001b[1;33m\u001b[0m\u001b[0m\n\u001b[0;32m     95\u001b[0m     \u001b[1;32mdef\u001b[0m \u001b[0mGetSplit\u001b[0m\u001b[1;33m(\u001b[0m\u001b[0mself\u001b[0m\u001b[1;33m,\u001b[0m \u001b[0mindex\u001b[0m\u001b[1;33m)\u001b[0m\u001b[1;33m:\u001b[0m\u001b[1;33m\u001b[0m\u001b[1;33m\u001b[0m\u001b[0m\n",
      "\u001b[1;32m~\\anaconda3\\lib\\site-packages\\PBC4cip\\core\\Dataset.py\u001b[0m in \u001b[0;36mGetClasses\u001b[1;34m(self)\u001b[0m\n\u001b[0;32m     71\u001b[0m \u001b[1;33m\u001b[0m\u001b[0m\n\u001b[0;32m     72\u001b[0m     \u001b[1;32mdef\u001b[0m \u001b[0mGetClasses\u001b[0m\u001b[1;33m(\u001b[0m\u001b[0mself\u001b[0m\u001b[1;33m)\u001b[0m\u001b[1;33m:\u001b[0m\u001b[1;33m\u001b[0m\u001b[1;33m\u001b[0m\u001b[0m\n\u001b[1;32m---> 73\u001b[1;33m         \u001b[1;32mreturn\u001b[0m \u001b[0mself\u001b[0m\u001b[1;33m.\u001b[0m\u001b[0mGetNominalValues\u001b[0m\u001b[1;33m(\u001b[0m\u001b[1;34m'class'\u001b[0m\u001b[1;33m)\u001b[0m\u001b[1;33m\u001b[0m\u001b[1;33m\u001b[0m\u001b[0m\n\u001b[0m\u001b[0;32m     74\u001b[0m \u001b[1;33m\u001b[0m\u001b[0m\n\u001b[0;32m     75\u001b[0m     \u001b[1;32mdef\u001b[0m \u001b[0mGetClassIdx\u001b[0m\u001b[1;33m(\u001b[0m\u001b[0mself\u001b[0m\u001b[1;33m)\u001b[0m\u001b[1;33m:\u001b[0m\u001b[1;33m\u001b[0m\u001b[1;33m\u001b[0m\u001b[0m\n",
      "\u001b[1;32m~\\anaconda3\\lib\\site-packages\\PBC4cip\\core\\Dataset.py\u001b[0m in \u001b[0;36mGetNominalValues\u001b[1;34m(self, feature)\u001b[0m\n\u001b[0;32m     44\u001b[0m \u001b[1;33m\u001b[0m\u001b[0m\n\u001b[0;32m     45\u001b[0m     \u001b[1;32mdef\u001b[0m \u001b[0mGetNominalValues\u001b[0m\u001b[1;33m(\u001b[0m\u001b[0mself\u001b[0m\u001b[1;33m,\u001b[0m \u001b[0mfeature\u001b[0m\u001b[1;33m)\u001b[0m\u001b[1;33m:\u001b[0m\u001b[1;33m\u001b[0m\u001b[1;33m\u001b[0m\u001b[0m\n\u001b[1;32m---> 46\u001b[1;33m         attribute = list(\n\u001b[0m\u001b[0;32m     47\u001b[0m             filter(lambda attr: attr[0].lower() == feature.lower(), self.Model))\n\u001b[0;32m     48\u001b[0m \u001b[1;33m\u001b[0m\u001b[0m\n",
      "\u001b[1;32m~\\anaconda3\\lib\\site-packages\\PBC4cip\\core\\Dataset.py\u001b[0m in \u001b[0;36m<lambda>\u001b[1;34m(attr)\u001b[0m\n\u001b[0;32m     45\u001b[0m     \u001b[1;32mdef\u001b[0m \u001b[0mGetNominalValues\u001b[0m\u001b[1;33m(\u001b[0m\u001b[0mself\u001b[0m\u001b[1;33m,\u001b[0m \u001b[0mfeature\u001b[0m\u001b[1;33m)\u001b[0m\u001b[1;33m:\u001b[0m\u001b[1;33m\u001b[0m\u001b[1;33m\u001b[0m\u001b[0m\n\u001b[0;32m     46\u001b[0m         attribute = list(\n\u001b[1;32m---> 47\u001b[1;33m             filter(lambda attr: attr[0].lower() == feature.lower(), self.Model))\n\u001b[0m\u001b[0;32m     48\u001b[0m \u001b[1;33m\u001b[0m\u001b[0m\n\u001b[0;32m     49\u001b[0m         \u001b[1;32mif\u001b[0m \u001b[0misinstance\u001b[0m\u001b[1;33m(\u001b[0m\u001b[0mattribute\u001b[0m\u001b[1;33m[\u001b[0m\u001b[1;36m0\u001b[0m\u001b[1;33m]\u001b[0m\u001b[1;33m[\u001b[0m\u001b[1;36m1\u001b[0m\u001b[1;33m]\u001b[0m\u001b[1;33m,\u001b[0m \u001b[0mlist\u001b[0m\u001b[1;33m)\u001b[0m\u001b[1;33m:\u001b[0m\u001b[1;33m\u001b[0m\u001b[1;33m\u001b[0m\u001b[0m\n",
      "\u001b[1;31mKeyboardInterrupt\u001b[0m: "
     ]
    }
   ],
   "source": [
    "get_patterns_PBC4cip_classifier('Universities_RQS_Update.csv', t_count = 10000)"
   ]
  },
  {
   "cell_type": "markdown",
   "metadata": {
    "id": "HM1ReoHzGxgR"
   },
   "source": [
    "### Random attribute selection results"
   ]
  },
  {
   "cell_type": "code",
   "execution_count": null,
   "metadata": {
    "id": "7MrSZLLwG6Ai"
   },
   "outputs": [],
   "source": [
    "get_patterns_RandFeat('Universities_RQS_Update.csv', t_count = 10000)"
   ]
  },
  {
   "cell_type": "markdown",
   "metadata": {
    "id": "9jzPYVs3G6Xb"
   },
   "source": [
    "### Selection algorithm results"
   ]
  },
  {
   "cell_type": "code",
   "execution_count": 66,
   "metadata": {
    "colab": {
     "base_uri": "https://localhost:8080/"
    },
    "id": "8r6hXZ0U1pzb",
    "outputId": "c5e7170a-ecf6-499a-a777-d89570c2a1de"
   },
   "outputs": [
    {
     "name": "stderr",
     "output_type": "stream",
     "text": [
      "                                                                                                                       \r"
     ]
    },
    {
     "ename": "KeyboardInterrupt",
     "evalue": "",
     "output_type": "error",
     "traceback": [
      "\u001b[1;31m---------------------------------------------------------------------------\u001b[0m",
      "\u001b[1;31mKeyboardInterrupt\u001b[0m                         Traceback (most recent call last)",
      "\u001b[1;32m<ipython-input-66-15ebe63e6faa>\u001b[0m in \u001b[0;36m<module>\u001b[1;34m\u001b[0m\n\u001b[1;32m----> 1\u001b[1;33m \u001b[0mget_patterns_SelectionAlg\u001b[0m\u001b[1;33m(\u001b[0m\u001b[1;34m'Universities_RQS_Update.csv'\u001b[0m\u001b[1;33m,\u001b[0m \u001b[0mt_count\u001b[0m \u001b[1;33m=\u001b[0m \u001b[1;36m10000\u001b[0m\u001b[1;33m)\u001b[0m\u001b[1;33m\u001b[0m\u001b[1;33m\u001b[0m\u001b[0m\n\u001b[0m",
      "\u001b[1;32m<ipython-input-64-a2887ecb80bc>\u001b[0m in \u001b[0;36mget_patterns_SelectionAlg\u001b[1;34m(csv_file, t_count)\u001b[0m\n\u001b[0;32m      1\u001b[0m \u001b[1;32mdef\u001b[0m \u001b[0mget_patterns_SelectionAlg\u001b[0m\u001b[1;33m(\u001b[0m\u001b[0mcsv_file\u001b[0m\u001b[1;33m,\u001b[0m \u001b[0mt_count\u001b[0m\u001b[1;33m)\u001b[0m\u001b[1;33m:\u001b[0m\u001b[1;33m\u001b[0m\u001b[1;33m\u001b[0m\u001b[0m\n\u001b[1;32m----> 2\u001b[1;33m   \u001b[0mall_patterns\u001b[0m \u001b[1;33m=\u001b[0m \u001b[0mPBC4cip_classifier_SelectionAlg\u001b[0m\u001b[1;33m(\u001b[0m\u001b[0mcsv_file\u001b[0m\u001b[1;33m,\u001b[0m \u001b[0mt_count\u001b[0m\u001b[1;33m)\u001b[0m\u001b[1;33m\u001b[0m\u001b[1;33m\u001b[0m\u001b[0m\n\u001b[0m\u001b[0;32m      3\u001b[0m   \u001b[0mget_patterns\u001b[0m \u001b[1;33m=\u001b[0m \u001b[1;33m[\u001b[0m\u001b[1;33m]\u001b[0m\u001b[1;33m\u001b[0m\u001b[1;33m\u001b[0m\u001b[0m\n\u001b[0;32m      4\u001b[0m   \u001b[1;32mfor\u001b[0m \u001b[0mpatterns\u001b[0m \u001b[1;32min\u001b[0m \u001b[0mall_patterns\u001b[0m\u001b[1;33m:\u001b[0m\u001b[1;33m\u001b[0m\u001b[1;33m\u001b[0m\u001b[0m\n\u001b[0;32m      5\u001b[0m     \u001b[0mget_patterns\u001b[0m\u001b[1;33m.\u001b[0m\u001b[0mappend\u001b[0m\u001b[1;33m(\u001b[0m\u001b[0mevaluate_patterns\u001b[0m\u001b[1;33m(\u001b[0m\u001b[0mpatterns\u001b[0m\u001b[1;33m,\u001b[0m \u001b[0mdiff\u001b[0m \u001b[1;33m=\u001b[0m \u001b[1;36m0.3\u001b[0m\u001b[1;33m)\u001b[0m\u001b[1;33m)\u001b[0m\u001b[1;33m\u001b[0m\u001b[1;33m\u001b[0m\u001b[0m\n",
      "\u001b[1;32m<ipython-input-62-5a6d525e9990>\u001b[0m in \u001b[0;36mPBC4cip_classifier_SelectionAlg\u001b[1;34m(csv_file, t_count)\u001b[0m\n\u001b[0;32m      5\u001b[0m   \u001b[0mX_train_selectalgor\u001b[0m \u001b[1;33m=\u001b[0m \u001b[0mattribute_selection_df_generator\u001b[0m\u001b[1;33m(\u001b[0m\u001b[0mcsv_file\u001b[0m\u001b[1;33m)\u001b[0m\u001b[1;33m\u001b[0m\u001b[1;33m\u001b[0m\u001b[0m\n\u001b[0;32m      6\u001b[0m   \u001b[1;32mfor\u001b[0m \u001b[0mi\u001b[0m \u001b[1;32min\u001b[0m \u001b[0mrange\u001b[0m\u001b[1;33m(\u001b[0m\u001b[0mlen\u001b[0m\u001b[1;33m(\u001b[0m\u001b[0mX_train_selectalgor\u001b[0m\u001b[1;33m)\u001b[0m\u001b[1;33m)\u001b[0m\u001b[1;33m:\u001b[0m\u001b[1;33m\u001b[0m\u001b[1;33m\u001b[0m\u001b[0m\n\u001b[1;32m----> 7\u001b[1;33m     \u001b[0mall_patterns\u001b[0m\u001b[1;33m.\u001b[0m\u001b[0mappend\u001b[0m\u001b[1;33m(\u001b[0m\u001b[0mclassifier\u001b[0m\u001b[1;33m.\u001b[0m\u001b[0mfit\u001b[0m\u001b[1;33m(\u001b[0m\u001b[0mX_train_selectalgor\u001b[0m\u001b[1;33m[\u001b[0m\u001b[0mi\u001b[0m\u001b[1;33m]\u001b[0m\u001b[1;33m,\u001b[0m \u001b[0my_train\u001b[0m\u001b[1;33m)\u001b[0m\u001b[1;33m)\u001b[0m\u001b[1;33m\u001b[0m\u001b[1;33m\u001b[0m\u001b[0m\n\u001b[0m\u001b[0;32m      8\u001b[0m   \u001b[1;32mreturn\u001b[0m \u001b[0mall_patterns\u001b[0m\u001b[1;33m\u001b[0m\u001b[1;33m\u001b[0m\u001b[0m\n",
      "\u001b[1;32m~\\anaconda3\\lib\\site-packages\\PBC4cip\\core\\PBC4cip.py\u001b[0m in \u001b[0;36mfit\u001b[1;34m(self, X, y)\u001b[0m\n\u001b[0;32m    110\u001b[0m         \u001b[0mself\u001b[0m\u001b[1;33m.\u001b[0m\u001b[0mEmergingPatterns\u001b[0m \u001b[1;33m=\u001b[0m \u001b[0mminer\u001b[0m\u001b[1;33m.\u001b[0m\u001b[0mMine\u001b[0m\u001b[1;33m(\u001b[0m\u001b[1;33m)\u001b[0m\u001b[1;33m\u001b[0m\u001b[1;33m\u001b[0m\u001b[0m\n\u001b[0;32m    111\u001b[0m         \u001b[1;32mif\u001b[0m \u001b[0mself\u001b[0m\u001b[1;33m.\u001b[0m\u001b[0mfilterer\u001b[0m \u001b[1;32mis\u001b[0m \u001b[1;32mnot\u001b[0m \u001b[1;32mNone\u001b[0m\u001b[1;33m:\u001b[0m\u001b[1;33m\u001b[0m\u001b[1;33m\u001b[0m\u001b[0m\n\u001b[1;32m--> 112\u001b[1;33m             \u001b[0mself\u001b[0m\u001b[1;33m.\u001b[0m\u001b[0mEmergingPatterns\u001b[0m \u001b[1;33m=\u001b[0m \u001b[0mself\u001b[0m\u001b[1;33m.\u001b[0m\u001b[0mfilterer\u001b[0m\u001b[1;33m.\u001b[0m\u001b[0mFilter\u001b[0m\u001b[1;33m(\u001b[0m\u001b[0mself\u001b[0m\u001b[1;33m.\u001b[0m\u001b[0mEmergingPatterns\u001b[0m\u001b[1;33m)\u001b[0m\u001b[1;33m\u001b[0m\u001b[1;33m\u001b[0m\u001b[0m\n\u001b[0m\u001b[0;32m    113\u001b[0m         \u001b[0mself\u001b[0m\u001b[1;33m.\u001b[0m\u001b[0m__ComputeVotes\u001b[0m\u001b[1;33m(\u001b[0m\u001b[0mX\u001b[0m\u001b[1;33m,\u001b[0m \u001b[0my\u001b[0m\u001b[1;33m,\u001b[0m \u001b[0mself\u001b[0m\u001b[1;33m.\u001b[0m\u001b[0mdataset\u001b[0m\u001b[1;33m.\u001b[0m\u001b[0mClass\u001b[0m\u001b[1;33m[\u001b[0m\u001b[1;36m1\u001b[0m\u001b[1;33m]\u001b[0m\u001b[1;33m)\u001b[0m\u001b[1;33m\u001b[0m\u001b[1;33m\u001b[0m\u001b[0m\n\u001b[0;32m    114\u001b[0m         \u001b[1;32mreturn\u001b[0m \u001b[0mself\u001b[0m\u001b[1;33m.\u001b[0m\u001b[0mEmergingPatterns\u001b[0m\u001b[1;33m\u001b[0m\u001b[1;33m\u001b[0m\u001b[0m\n",
      "\u001b[1;32m~\\anaconda3\\lib\\site-packages\\PBC4cip\\core\\PatternFilter.py\u001b[0m in \u001b[0;36mFilter\u001b[1;34m(self, patterns)\u001b[0m\n\u001b[0;32m     23\u001b[0m \u001b[1;33m\u001b[0m\u001b[0m\n\u001b[0;32m     24\u001b[0m             \u001b[1;32mfor\u001b[0m \u001b[0mselected_pattern\u001b[0m \u001b[1;32min\u001b[0m \u001b[0mselected_patterns\u001b[0m\u001b[1;33m:\u001b[0m\u001b[1;33m\u001b[0m\u001b[1;33m\u001b[0m\u001b[0m\n\u001b[1;32m---> 25\u001b[1;33m                 \u001b[0mpattern_relation\u001b[0m \u001b[1;33m=\u001b[0m \u001b[0mself\u001b[0m\u001b[1;33m.\u001b[0m\u001b[0mcomparer\u001b[0m\u001b[1;33m.\u001b[0m\u001b[0mCompare\u001b[0m\u001b[1;33m(\u001b[0m\u001b[0mcandidate_pattern\u001b[0m\u001b[1;33m,\u001b[0m \u001b[0mselected_pattern\u001b[0m\u001b[1;33m)\u001b[0m\u001b[1;33m\u001b[0m\u001b[1;33m\u001b[0m\u001b[0m\n\u001b[0m\u001b[0;32m     26\u001b[0m                 \u001b[1;32mif\u001b[0m \u001b[0mpattern_relation\u001b[0m \u001b[1;33m==\u001b[0m \u001b[0mSubsetRelation\u001b[0m\u001b[1;33m.\u001b[0m\u001b[0mSubset\u001b[0m \u001b[1;32mor\u001b[0m \u001b[0mpattern_relation\u001b[0m \u001b[1;33m==\u001b[0m \u001b[0mSubsetRelation\u001b[0m\u001b[1;33m.\u001b[0m\u001b[0mEqual\u001b[0m\u001b[1;33m:\u001b[0m\u001b[1;33m\u001b[0m\u001b[1;33m\u001b[0m\u001b[0m\n\u001b[0;32m     27\u001b[0m                     \u001b[0mgeneral_pattern_found\u001b[0m \u001b[1;33m=\u001b[0m \u001b[1;32mTrue\u001b[0m\u001b[1;33m\u001b[0m\u001b[1;33m\u001b[0m\u001b[0m\n",
      "\u001b[1;32m~\\anaconda3\\lib\\site-packages\\PBC4cip\\core\\EmergingPatterns.py\u001b[0m in \u001b[0;36mCompare\u001b[1;34m(self, leftPattern, rightPattern)\u001b[0m\n\u001b[0;32m    185\u001b[0m \u001b[1;33m\u001b[0m\u001b[0m\n\u001b[0;32m    186\u001b[0m     \u001b[1;32mdef\u001b[0m \u001b[0mCompare\u001b[0m\u001b[1;33m(\u001b[0m\u001b[0mself\u001b[0m\u001b[1;33m,\u001b[0m \u001b[0mleftPattern\u001b[0m\u001b[1;33m,\u001b[0m \u001b[0mrightPattern\u001b[0m\u001b[1;33m)\u001b[0m\u001b[1;33m:\u001b[0m\u001b[1;33m\u001b[0m\u001b[1;33m\u001b[0m\u001b[0m\n\u001b[1;32m--> 187\u001b[1;33m         \u001b[0mdirectSubset\u001b[0m \u001b[1;33m=\u001b[0m \u001b[0mself\u001b[0m\u001b[1;33m.\u001b[0m\u001b[0mIsSubset\u001b[0m\u001b[1;33m(\u001b[0m\u001b[0mleftPattern\u001b[0m\u001b[1;33m,\u001b[0m \u001b[0mrightPattern\u001b[0m\u001b[1;33m)\u001b[0m\u001b[1;33m\u001b[0m\u001b[1;33m\u001b[0m\u001b[0m\n\u001b[0m\u001b[0;32m    188\u001b[0m         \u001b[0minverseSubset\u001b[0m \u001b[1;33m=\u001b[0m \u001b[0mself\u001b[0m\u001b[1;33m.\u001b[0m\u001b[0mIsSubset\u001b[0m\u001b[1;33m(\u001b[0m\u001b[0mrightPattern\u001b[0m\u001b[1;33m,\u001b[0m \u001b[0mleftPattern\u001b[0m\u001b[1;33m)\u001b[0m\u001b[1;33m\u001b[0m\u001b[1;33m\u001b[0m\u001b[0m\n\u001b[0;32m    189\u001b[0m         \u001b[1;32mif\u001b[0m \u001b[1;33m(\u001b[0m\u001b[0mdirectSubset\u001b[0m \u001b[1;32mand\u001b[0m \u001b[0minverseSubset\u001b[0m\u001b[1;33m)\u001b[0m\u001b[1;33m:\u001b[0m\u001b[1;33m\u001b[0m\u001b[1;33m\u001b[0m\u001b[0m\n",
      "\u001b[1;32m~\\anaconda3\\lib\\site-packages\\PBC4cip\\core\\EmergingPatterns.py\u001b[0m in \u001b[0;36mIsSubset\u001b[1;34m(self, pat1, pat2)\u001b[0m\n\u001b[0;32m    204\u001b[0m             \u001b[0mall_bool\u001b[0m \u001b[1;33m=\u001b[0m \u001b[1;32mFalse\u001b[0m\u001b[1;33m\u001b[0m\u001b[1;33m\u001b[0m\u001b[0m\n\u001b[0;32m    205\u001b[0m             \u001b[1;32mfor\u001b[0m \u001b[0my\u001b[0m \u001b[1;32min\u001b[0m \u001b[0mpat1\u001b[0m\u001b[1;33m.\u001b[0m\u001b[0mItems\u001b[0m\u001b[1;33m:\u001b[0m\u001b[1;33m\u001b[0m\u001b[1;33m\u001b[0m\u001b[0m\n\u001b[1;32m--> 206\u001b[1;33m                 \u001b[1;32mif\u001b[0m \u001b[0mf\u001b[0m\u001b[1;33m(\u001b[0m\u001b[0my\u001b[0m\u001b[1;33m,\u001b[0m \u001b[0mx\u001b[0m\u001b[1;33m)\u001b[0m\u001b[1;33m:\u001b[0m\u001b[1;33m\u001b[0m\u001b[1;33m\u001b[0m\u001b[0m\n\u001b[0m\u001b[0;32m    207\u001b[0m                     \u001b[0mall_bool\u001b[0m \u001b[1;33m=\u001b[0m \u001b[1;32mTrue\u001b[0m\u001b[1;33m\u001b[0m\u001b[1;33m\u001b[0m\u001b[0m\n\u001b[0;32m    208\u001b[0m                     \u001b[1;32mbreak\u001b[0m\u001b[1;33m\u001b[0m\u001b[1;33m\u001b[0m\u001b[0m\n",
      "\u001b[1;32m~\\anaconda3\\lib\\site-packages\\PBC4cip\\core\\EmergingPatterns.py\u001b[0m in \u001b[0;36mf\u001b[1;34m(x, y)\u001b[0m\n\u001b[0;32m    197\u001b[0m \u001b[1;33m\u001b[0m\u001b[0m\n\u001b[0;32m    198\u001b[0m     \u001b[1;32mdef\u001b[0m \u001b[0mIsSubset\u001b[0m\u001b[1;33m(\u001b[0m\u001b[0mself\u001b[0m\u001b[1;33m,\u001b[0m \u001b[0mpat1\u001b[0m\u001b[1;33m,\u001b[0m \u001b[0mpat2\u001b[0m\u001b[1;33m)\u001b[0m\u001b[1;33m:\u001b[0m\u001b[1;33m\u001b[0m\u001b[1;33m\u001b[0m\u001b[0m\n\u001b[1;32m--> 199\u001b[1;33m         \u001b[1;32mdef\u001b[0m \u001b[0mf\u001b[0m\u001b[1;33m(\u001b[0m\u001b[0mx\u001b[0m\u001b[1;33m,\u001b[0m \u001b[0my\u001b[0m\u001b[1;33m)\u001b[0m\u001b[1;33m:\u001b[0m\u001b[1;33m\u001b[0m\u001b[1;33m\u001b[0m\u001b[0m\n\u001b[0m\u001b[0;32m    200\u001b[0m             \u001b[0mrelation\u001b[0m \u001b[1;33m=\u001b[0m \u001b[0mself\u001b[0m\u001b[1;33m.\u001b[0m\u001b[0mComparer\u001b[0m\u001b[1;33m.\u001b[0m\u001b[0mCompare\u001b[0m\u001b[1;33m(\u001b[0m\u001b[0mself\u001b[0m\u001b[1;33m,\u001b[0m \u001b[0mx\u001b[0m\u001b[1;33m,\u001b[0m \u001b[0my\u001b[0m\u001b[1;33m)\u001b[0m\u001b[1;33m\u001b[0m\u001b[1;33m\u001b[0m\u001b[0m\n\u001b[0;32m    201\u001b[0m             \u001b[1;32mreturn\u001b[0m \u001b[0mrelation\u001b[0m \u001b[1;33m==\u001b[0m \u001b[0mSubsetRelation\u001b[0m\u001b[1;33m.\u001b[0m\u001b[0mEqual\u001b[0m \u001b[1;32mor\u001b[0m \u001b[0mrelation\u001b[0m \u001b[1;33m==\u001b[0m \u001b[0mSubsetRelation\u001b[0m\u001b[1;33m.\u001b[0m\u001b[0mSubset\u001b[0m\u001b[1;33m\u001b[0m\u001b[1;33m\u001b[0m\u001b[0m\n",
      "\u001b[1;31mKeyboardInterrupt\u001b[0m: "
     ]
    }
   ],
   "source": [
    "get_patterns_SelectionAlg('Universities_RQS_Update.csv', t_count = 10000)"
   ]
  },
  {
   "cell_type": "markdown",
   "metadata": {
    "id": "0r7tjCJNIWYY"
   },
   "source": [
    "### Max Depth results"
   ]
  },
  {
   "cell_type": "code",
   "execution_count": null,
   "metadata": {
    "id": "X4NTWwq0IcRq"
   },
   "outputs": [],
   "source": [
    "# MaxDepth = 2"
   ]
  },
  {
   "cell_type": "code",
   "execution_count": null,
   "metadata": {
    "id": "XStbX7IdIdlH"
   },
   "outputs": [],
   "source": [
    "# MaxDepth = 3"
   ]
  },
  {
   "cell_type": "code",
   "execution_count": null,
   "metadata": {
    "id": "YXQqT7kFIdVm"
   },
   "outputs": [],
   "source": [
    "# MaxDepth = 4"
   ]
  },
  {
   "cell_type": "code",
   "execution_count": null,
   "metadata": {
    "id": "cGp8z0R0IrnK"
   },
   "outputs": [],
   "source": [
    "# Maxdepth = 5"
   ]
  },
  {
   "cell_type": "markdown",
   "metadata": {
    "id": "mBLraT9gIbxm"
   },
   "source": [
    "### Min Object by leaf"
   ]
  },
  {
   "cell_type": "code",
   "execution_count": null,
   "metadata": {
    "id": "fwjrL5szIzPz"
   },
   "outputs": [],
   "source": [
    "# MinObj = 3"
   ]
  },
  {
   "cell_type": "code",
   "execution_count": null,
   "metadata": {
    "id": "Zq-g0XXoI4Y-"
   },
   "outputs": [],
   "source": [
    "# MinObj = 4"
   ]
  },
  {
   "cell_type": "code",
   "execution_count": null,
   "metadata": {
    "id": "L6wptfIDI7GT"
   },
   "outputs": [],
   "source": [
    "# MinObj = 5"
   ]
  },
  {
   "cell_type": "code",
   "execution_count": null,
   "metadata": {
    "id": "f4RONDdXI8E7"
   },
   "outputs": [],
   "source": [
    "# MinObj = 10"
   ]
  }
 ],
 "metadata": {
  "colab": {
   "collapsed_sections": [],
   "name": "Assignment3_AML.ipynb",
   "provenance": [],
   "toc_visible": true
  },
  "kernelspec": {
   "display_name": "Python 3",
   "language": "python",
   "name": "python3"
  },
  "language_info": {
   "codemirror_mode": {
    "name": "ipython",
    "version": 3
   },
   "file_extension": ".py",
   "mimetype": "text/x-python",
   "name": "python",
   "nbconvert_exporter": "python",
   "pygments_lexer": "ipython3",
   "version": "3.8.8"
  }
 },
 "nbformat": 4,
 "nbformat_minor": 1
}
